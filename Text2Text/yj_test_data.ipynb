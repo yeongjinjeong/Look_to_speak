{
 "cells": [
  {
   "cell_type": "code",
   "execution_count": 1,
   "id": "bde223c8",
   "metadata": {},
   "outputs": [],
   "source": [
    "import json\n",
    "\n",
    "with open(\"../NIKL_DIALOGUE_2020_v1.3/SDRW2000000004.json\",\"r\") as f:\n",
    "    data = json.load(f)"
   ]
  },
  {
   "cell_type": "code",
   "execution_count": 3,
   "id": "c785d9f3",
   "metadata": {},
   "outputs": [
    {
     "ename": "NameError",
     "evalue": "name 'df' is not defined",
     "output_type": "error",
     "traceback": [
      "\u001b[0;31m---------------------------------------------------------------------------\u001b[0m",
      "\u001b[0;31mNameError\u001b[0m                                 Traceback (most recent call last)",
      "Cell \u001b[0;32mIn[3], line 13\u001b[0m\n\u001b[1;32m      9\u001b[0m string_list1 \u001b[38;5;241m=\u001b[39m []\n\u001b[1;32m     12\u001b[0m \u001b[38;5;28;01mfor\u001b[39;00m i \u001b[38;5;129;01min\u001b[39;00m \u001b[38;5;28mrange\u001b[39m(length):\n\u001b[0;32m---> 13\u001b[0m     value \u001b[38;5;241m=\u001b[39m \u001b[43mdf\u001b[49m\u001b[38;5;241m.\u001b[39mspeaker_id[i]\n\u001b[1;32m     14\u001b[0m     \u001b[38;5;28;01mif\u001b[39;00m value \u001b[38;5;241m==\u001b[39m speaker_list[\u001b[38;5;241m0\u001b[39m]:\n\u001b[1;32m     15\u001b[0m         string1 \u001b[38;5;241m+\u001b[39m\u001b[38;5;241m=\u001b[39m path[i][\u001b[38;5;124m'\u001b[39m\u001b[38;5;124mform\u001b[39m\u001b[38;5;124m'\u001b[39m] \u001b[38;5;241m+\u001b[39m \u001b[38;5;124m'\u001b[39m\u001b[38;5;124m \u001b[39m\u001b[38;5;124m'\u001b[39m\n",
      "\u001b[0;31mNameError\u001b[0m: name 'df' is not defined"
     ]
    }
   ],
   "source": [
    "speaker = data['document'][0]['metadata']['speaker']\n",
    "speaker_list = []\n",
    "for i in range(len(speaker)):\n",
    "    speaker_list.append(speaker[i]['id'])\n",
    "\n",
    "length = len(data['document'][0]['utterance'])\n",
    "\n",
    "string1 = ''\n",
    "string_list1 = []\n",
    "\n",
    "\n",
    "for i in range(length):\n",
    "    value = df.speaker_id[i]\n",
    "    if value == speaker_list[0]:\n",
    "        string1 += path[i]['form'] + ' '\n",
    "    if value == speaker_list[1]:\n",
    "        if string1 == '':\n",
    "            continue\n",
    "        string_list1.append(string1)\n",
    "        string1 = ''\n",
    "\n",
    "if string1 != '':\n",
    "    string_list1.append(string1)\n",
    "    string1=''\n",
    "print(len(string_list1))\n",
    "print(string_list1)\n"
   ]
  },
  {
   "cell_type": "code",
   "execution_count": null,
   "id": "27ebe8f8",
   "metadata": {},
   "outputs": [],
   "source": []
  }
 ],
 "metadata": {
  "kernelspec": {
   "display_name": "Python 3 (ipykernel)",
   "language": "python",
   "name": "python3"
  },
  "language_info": {
   "codemirror_mode": {
    "name": "ipython",
    "version": 3
   },
   "file_extension": ".py",
   "mimetype": "text/x-python",
   "name": "python",
   "nbconvert_exporter": "python",
   "pygments_lexer": "ipython3",
   "version": "3.8.16"
  }
 },
 "nbformat": 4,
 "nbformat_minor": 5
}
