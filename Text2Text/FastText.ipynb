{
 "cells": [
  {
   "cell_type": "code",
   "execution_count": 39,
   "id": "03d1a38e",
   "metadata": {
    "scrolled": false
   },
   "outputs": [
    {
     "name": "stdout",
     "output_type": "stream",
     "text": [
      "Cloning into 'fastText'...\n",
      "remote: Enumerating objects: 3938, done.\u001b[K\n",
      "remote: Counting objects: 100% (966/966), done.\u001b[K\n",
      "remote: Compressing objects: 100% (146/146), done.\u001b[K\n",
      "remote: Total 3938 (delta 870), reused 824 (delta 819), pack-reused 2972\u001b[K\n",
      "Receiving objects: 100% (3938/3938), 8.25 MiB | 14.92 MiB/s, done.\n",
      "Resolving deltas: 100% (2508/2508), done.\n"
     ]
    }
   ],
   "source": [
    "!git clone https://github.com/facebookresearch/fastText.git"
   ]
  },
  {
   "cell_type": "code",
   "execution_count": 40,
   "id": "8cfcaf98",
   "metadata": {},
   "outputs": [],
   "source": [
    "!cd fastText"
   ]
  },
  {
   "cell_type": "code",
   "execution_count": 41,
   "id": "f960dc8d",
   "metadata": {},
   "outputs": [
    {
     "name": "stdout",
     "output_type": "stream",
     "text": [
      "\u001b[31mERROR: Directory '.' is not installable. Neither 'setup.py' nor 'pyproject.toml' found.\u001b[0m\u001b[31m\r\n",
      "\u001b[0m"
     ]
    }
   ],
   "source": [
    "!pip install ."
   ]
  },
  {
   "cell_type": "code",
   "execution_count": 45,
   "id": "17e7b9b8",
   "metadata": {},
   "outputs": [
    {
     "name": "stdout",
     "output_type": "stream",
     "text": [
      "--2023-05-30 00:01:55--  https://dl.fbaipublicfiles.com/fasttext/vectors-crawl/cc.ko.300.bin.gz\n",
      "Resolving dl.fbaipublicfiles.com (dl.fbaipublicfiles.com)... 99.86.207.41, 99.86.207.52, 99.86.207.39, ...\n",
      "Connecting to dl.fbaipublicfiles.com (dl.fbaipublicfiles.com)|99.86.207.41|:443... connected.\n",
      "HTTP request sent, awaiting response... 200 OK\n",
      "Length: 4486458164 (4.2G) [application/octet-stream]\n",
      "Saving to: ‘cc.ko.300.bin.gz’\n",
      "\n",
      "cc.ko.300.bin.gz    100%[===================>]   4.18G  30.6MB/s    in 2m 28s  \n",
      "\n",
      "2023-05-30 00:04:25 (28.9 MB/s) - ‘cc.ko.300.bin.gz’ saved [4486458164/4486458164]\n",
      "\n"
     ]
    }
   ],
   "source": [
    "!wget https://dl.fbaipublicfiles.com/fasttext/vectors-crawl/cc.ko.300.bin.gz"
   ]
  },
  {
   "cell_type": "code",
   "execution_count": 46,
   "id": "644b91a0",
   "metadata": {},
   "outputs": [],
   "source": [
    "!gunzip cc.ko.300.bin.gz"
   ]
  },
  {
   "cell_type": "code",
   "execution_count": 48,
   "id": "f39ea8e3",
   "metadata": {},
   "outputs": [
    {
     "name": "stdout",
     "output_type": "stream",
     "text": [
      "Python: 0.5650615692138672\n",
      "자이썬: 0.5624369382858276\n",
      "레일스: 0.5598082542419434\n",
      "파이썬을: 0.5595802068710327\n",
      "언어용: 0.5288202166557312\n",
      "파이썬의: 0.5250024795532227\n",
      "프로그래밍: 0.5225088596343994\n",
      "wxPython: 0.5222088694572449\n",
      "파이썬이나: 0.5201171636581421\n",
      "함수형: 0.5187377333641052\n"
     ]
    }
   ],
   "source": [
    "ko_model = models.fasttext.load_facebook_model('cc.ko.300.bin')\n",
    "\n",
    "for w, sim in ko_model.wv.similar_by_word('파이썬', 10):\n",
    "    print(f'{w}: {sim}')"
   ]
  },
  {
   "cell_type": "code",
   "execution_count": null,
   "id": "58283914",
   "metadata": {},
   "outputs": [],
   "source": []
  }
 ],
 "metadata": {
  "kernelspec": {
   "display_name": "Python 3 (ipykernel)",
   "language": "python",
   "name": "python3"
  },
  "language_info": {
   "codemirror_mode": {
    "name": "ipython",
    "version": 3
   },
   "file_extension": ".py",
   "mimetype": "text/x-python",
   "name": "python",
   "nbconvert_exporter": "python",
   "pygments_lexer": "ipython3",
   "version": "3.8.16"
  }
 },
 "nbformat": 4,
 "nbformat_minor": 5
}
