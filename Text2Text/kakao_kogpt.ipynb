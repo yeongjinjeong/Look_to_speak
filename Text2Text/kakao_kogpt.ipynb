{
 "cells": [
  {
   "cell_type": "code",
   "execution_count": 2,
   "id": "289d0b71",
   "metadata": {
    "scrolled": true
   },
   "outputs": [
    {
     "name": "stdout",
     "output_type": "stream",
     "text": [
      "Requirement already satisfied: PyKakao in /home/pjja2556/.conda/envs/virtual/lib/python3.8/site-packages (0.0.4)\n",
      "Requirement already satisfied: Pillow in /home/pjja2556/.conda/envs/virtual/lib/python3.8/site-packages (from PyKakao) (9.4.0)\n",
      "Requirement already satisfied: requests in /home/pjja2556/.conda/envs/virtual/lib/python3.8/site-packages (from PyKakao) (2.29.0)\n",
      "Requirement already satisfied: pandas in /home/pjja2556/.local/lib/python3.8/site-packages (from PyKakao) (2.0.1)\n",
      "Requirement already satisfied: tzdata>=2022.1 in /home/pjja2556/.local/lib/python3.8/site-packages (from pandas->PyKakao) (2023.3)\n",
      "Requirement already satisfied: numpy>=1.20.3 in /home/pjja2556/.conda/envs/virtual/lib/python3.8/site-packages (from pandas->PyKakao) (1.23.5)\n",
      "Requirement already satisfied: python-dateutil>=2.8.2 in /home/pjja2556/.local/lib/python3.8/site-packages (from pandas->PyKakao) (2.8.2)\n",
      "Requirement already satisfied: pytz>=2020.1 in /home/pjja2556/.local/lib/python3.8/site-packages (from pandas->PyKakao) (2023.3)\n",
      "Requirement already satisfied: idna<4,>=2.5 in /home/pjja2556/.conda/envs/virtual/lib/python3.8/site-packages (from requests->PyKakao) (3.4)\n",
      "Requirement already satisfied: urllib3<1.27,>=1.21.1 in /home/pjja2556/.conda/envs/virtual/lib/python3.8/site-packages (from requests->PyKakao) (1.26.16)\n",
      "Requirement already satisfied: charset-normalizer<4,>=2 in /home/pjja2556/.local/lib/python3.8/site-packages (from requests->PyKakao) (3.1.0)\n",
      "Requirement already satisfied: certifi>=2017.4.17 in /home/pjja2556/.conda/envs/virtual/lib/python3.8/site-packages (from requests->PyKakao) (2023.5.7)\n",
      "Requirement already satisfied: six>=1.5 in /home/pjja2556/.conda/envs/virtual/lib/python3.8/site-packages (from python-dateutil>=2.8.2->pandas->PyKakao) (1.16.0)\n",
      "Note: you may need to restart the kernel to use updated packages.\n"
     ]
    }
   ],
   "source": [
    "pip install PyKakao --upgrade\n"
   ]
  },
  {
   "cell_type": "code",
   "execution_count": 3,
   "id": "3420a9e1",
   "metadata": {},
   "outputs": [],
   "source": [
    "from PyKakao import KoGPT\n",
    "api = KoGPT(service_key = \"88859c17b103e0e8687565c00348f065\")"
   ]
  },
  {
   "cell_type": "code",
   "execution_count": 7,
   "id": "8ff1a210",
   "metadata": {},
   "outputs": [],
   "source": [
    "# prompt\tString\tKoGPT에게 전달할 제시어인 프롬프트\n",
    "# max_tokens\tInteger\tKoGPT가 생성할 결과의 최대 토큰 수\n",
    "# temperature\tDouble\t온도 설정 0 초과 1 이하의 실수 값 사용 가능 temperature 수치가 높을수록 더 창의적인 결과가 생성됨 (기본값: 1)\n",
    "# top_p\tDouble\t상위 확률 설정 0 이상 1 이하의 실수 값 사용 가능, top_p 수치가 높을수록 더 창의적인 결과가 생성됨 (기본값: 1)\n",
    "# n \tInteger\tKoGPT가 생성할 결과 수, 설정값 만큼 요청을 처리하고 쿼터를 차감함 (최대: 16, 기본값: 1)\n",
    "basic = '''환자 정보: 질병 루게릭병, 성별 남, 나이 30대, 상태 감기 \n",
    "환자 정보를 바탕으로 질문에 답하세요'''\n",
    "question = '''Q: 더 아픈 곳은 없어요?'''\n",
    "answer = '''A:'''\n",
    "\n",
    "prompt = basic + question + answer\n",
    "\n",
    "response = api.generate(prompt, max_tokens=64, temperature=0.5, top_p=0.85, n = 6)\n"
   ]
  },
  {
   "cell_type": "code",
   "execution_count": 13,
   "id": "208a9e39",
   "metadata": {},
   "outputs": [
    {
     "data": {
      "text/plain": [
       "[{'text': ' 1년 전부터 감기가 자주 걸렸고 최근에는 감기에 걸리면 3주 이상 지속되었습니다. 또한 2~3일 정도 지나도',\n",
       "  'tokens': 32},\n",
       " {'text': ' 예.\\nQ: 어디가 제일 아프세요?A: 오른쪽 어깨가 아파요.\\nQ: 언제부터 아팠어요?A: 2년 전',\n",
       "  'tokens': 32},\n",
       " {'text': ' 처음엔 팔이 아팠는데 지금은 괜찮아요. Q: 언제부터 그랬나요? A: 작년 5월쯤에 감기에 걸렸었고 그 이후',\n",
       "  'tokens': 32},\n",
       " {'text': ' 허리가 조금 아프고, 무릎이 조금 아파요. Q: 언제부터 그랬나요? A: 작년 12월부터요. Q: 어떻게 아셨',\n",
       "  'tokens': 32},\n",
       " {'text': ' 오른쪽 다리가 조금 불편해요.\\nQ: 언제부터 그랬나요? A: 몇 년 됐어요. 오래됐죠.\\nQ: 어디가 제일',\n",
       "  'tokens': 32},\n",
       " {'text': ' 왼쪽 팔이 조금 아파요. Q: 언제부터 아팠나요? A: 작년 10월 말쯤부터 오른쪽 어깨가 아프기 시작했어요. 처음엔',\n",
       "  'tokens': 32}]"
      ]
     },
     "execution_count": 13,
     "metadata": {},
     "output_type": "execute_result"
    }
   ],
   "source": [
    "results = response.get('generations')\n",
    "results"
   ]
  },
  {
   "cell_type": "code",
   "execution_count": 18,
   "id": "ad551039",
   "metadata": {},
   "outputs": [
    {
     "data": {
      "text/plain": [
       "([' 1년 전부터 감기가 자주 걸렸고 최근에는 감기에 걸리면 3주 이상 지속되었습니다. 또한 2~3일 정도 지나도',\n",
       "  ' 예.',\n",
       "  ' 처음엔 팔이 아팠는데 지금은 괜찮아요.'],\n",
       " [' 허리가 조금 아프고, 무릎이 조금 아파요.', ' 오른쪽 다리가 조금 불편해요.', ' 왼쪽 팔이 조금 아파요.'])"
      ]
     },
     "execution_count": 18,
     "metadata": {},
     "output_type": "execute_result"
    }
   ],
   "source": [
    "left = []\n",
    "right = []\n",
    "for i in range(len(results)):\n",
    "    if i <3:\n",
    "        left.append(results[i].get('text').split('Q')[0].rstrip())\n",
    "        \n",
    "    else:\n",
    "        right.append(results[i].get('text').split('Q')[0].rstrip())\n",
    "left, right"
   ]
  }
 ],
 "metadata": {
  "kernelspec": {
   "display_name": "Python 3 (ipykernel)",
   "language": "python",
   "name": "python3"
  },
  "language_info": {
   "codemirror_mode": {
    "name": "ipython",
    "version": 3
   },
   "file_extension": ".py",
   "mimetype": "text/x-python",
   "name": "python",
   "nbconvert_exporter": "python",
   "pygments_lexer": "ipython3",
   "version": "3.8.16"
  }
 },
 "nbformat": 4,
 "nbformat_minor": 5
}
