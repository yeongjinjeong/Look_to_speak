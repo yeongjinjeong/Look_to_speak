{
  "nbformat": 4,
  "nbformat_minor": 0,
  "metadata": {
    "colab": {
      "provenance": []
    },
    "kernelspec": {
      "name": "python3",
      "display_name": "Python 3"
    },
    "language_info": {
      "name": "python"
    }
  },
  "cells": [
    {
      "cell_type": "code",
      "source": [
        "!pip install ffmpeg-python"
      ],
      "metadata": {
        "colab": {
          "base_uri": "https://localhost:8080/"
        },
        "id": "ngnT_NlB_6XM",
        "outputId": "e19f01f4-cf28-494e-c77e-4fc18bee7627"
      },
      "execution_count": null,
      "outputs": [
        {
          "output_type": "stream",
          "name": "stdout",
          "text": [
            "Looking in indexes: https://pypi.org/simple, https://us-python.pkg.dev/colab-wheels/public/simple/\n",
            "Requirement already satisfied: ffmpeg-python in /usr/local/lib/python3.10/dist-packages (0.2.0)\n",
            "Requirement already satisfied: future in /usr/local/lib/python3.10/dist-packages (from ffmpeg-python) (0.18.3)\n"
          ]
        }
      ]
    },
    {
      "cell_type": "code",
      "source": [
        "from IPython.display import HTML, Audio\n",
        "from google.colab.output import eval_js\n",
        "from base64 import b64decode\n",
        "import numpy as np\n",
        "from scipy.io.wavfile import read as wav_read\n",
        "import io\n",
        "import ffmpeg\n",
        "\n",
        "AUDIO_HTML = \"\"\"\n",
        "<script>\n",
        "var my_div = document.createElement(\"DIV\");\n",
        "var my_p = document.createElement(\"P\");\n",
        "var my_btn = document.createElement(\"BUTTON\");\n",
        "var t = document.createTextNode(\"Press to start recording\");\n",
        "\n",
        "my_btn.appendChild(t);\n",
        "//my_p.appendChild(my_btn);\n",
        "my_div.appendChild(my_btn);\n",
        "document.body.appendChild(my_div);\n",
        "\n",
        "var base64data = 0;\n",
        "var reader;\n",
        "var recorder, gumStream;\n",
        "var recordButton = my_btn;\n",
        "\n",
        "var handleSuccess = function(stream) {\n",
        "  gumStream = stream;\n",
        "  var options = {\n",
        "    //bitsPerSecond: 8000, //chrome seems to ignore, always 48k\n",
        "    mimeType : 'audio/webm;codecs=opus'\n",
        "    //mimeType : 'audio/webm;codecs=pcm'\n",
        "  };\n",
        "  //recorder = new MediaRecorder(stream, options);\n",
        "  recorder = new MediaRecorder(stream);\n",
        "  recorder.ondataavailable = function(e) {\n",
        "    var url = URL.createObjectURL(e.data);\n",
        "    var preview = document.createElement('audio');\n",
        "    preview.controls = true;\n",
        "    preview.src = url;\n",
        "    document.body.appendChild(preview);\n",
        "\n",
        "    reader = new FileReader();\n",
        "    reader.readAsDataURL(e.data);\n",
        "    reader.onloadend = function() {\n",
        "      base64data = reader.result;\n",
        "      //console.log(\"Inside FileReader:\" + base64data);\n",
        "    }\n",
        "  };\n",
        "  recorder.start();\n",
        "  };\n",
        "\n",
        "recordButton.innerText = \"Recording... press to stop\";\n",
        "\n",
        "navigator.mediaDevices.getUserMedia({audio: true}).then(handleSuccess);\n",
        "\n",
        "\n",
        "function toggleRecording() {\n",
        "  if (recorder && recorder.state == \"recording\") {\n",
        "      recorder.stop();\n",
        "      gumStream.getAudioTracks()[0].stop();\n",
        "      recordButton.innerText = \"Saving the recording... pls wait!\"\n",
        "  }\n",
        "}\n",
        "\n",
        "// https://stackoverflow.com/a/951057\n",
        "function sleep(ms) {\n",
        "  return new Promise(resolve => setTimeout(resolve, ms));\n",
        "}\n",
        "\n",
        "var data = new Promise(resolve=>{\n",
        "//recordButton.addEventListener(\"click\", toggleRecording);\n",
        "recordButton.onclick = ()=>{\n",
        "toggleRecording()\n",
        "\n",
        "sleep(2000).then(() => {\n",
        "  // wait 2000ms for the data to be available...\n",
        "  // ideally this should use something like await...\n",
        "  //console.log(\"Inside data:\" + base64data)\n",
        "  resolve(base64data.toString())\n",
        "\n",
        "});\n",
        "\n",
        "}\n",
        "});\n",
        "\n",
        "</script>\n",
        "\"\"\"\n",
        "\n",
        "def get_audio():\n",
        "  display(HTML(AUDIO_HTML))\n",
        "  data = eval_js(\"data\")\n",
        "  binary = b64decode(data.split(',')[1])\n",
        "\n",
        "  process = (ffmpeg\n",
        "    .input('pipe:0')\n",
        "    .output('pipe:1', format='wav')\n",
        "    .run_async(pipe_stdin=True, pipe_stdout=True, pipe_stderr=True, quiet=True, overwrite_output=True)\n",
        "  )\n",
        "  output, err = process.communicate(input=binary)\n",
        "\n",
        "  riff_chunk_size = len(output) - 8\n",
        "\n",
        "  q = riff_chunk_size\n",
        "  b = []\n",
        "  for i in range(4):\n",
        "      q, r = divmod(q, 256)\n",
        "      b.append(r)\n",
        "\n",
        "  riff = output[:4] + bytes(b) + output[8:]\n",
        "\n",
        "  sr, audio = wav_read(io.BytesIO(riff))\n",
        "\n",
        "  return audio, sr"
      ],
      "metadata": {
        "id": "a6UIcKRrA_N_"
      },
      "execution_count": null,
      "outputs": []
    },
    {
      "cell_type": "code",
      "source": [
        "import io\n",
        "import wave\n",
        "from base64 import b64decode\n",
        "from IPython.display import Audio, display, HTML\n",
        "from google.colab import output"
      ],
      "metadata": {
        "id": "_iwVTGL_BBBD"
      },
      "execution_count": null,
      "outputs": []
    },
    {
      "cell_type": "code",
      "source": [
        "def save_audio_as_wav(audio, filename):\n",
        "    with wave.open(filename, 'wb') as wav_file:\n",
        "        wav_file.setnchannels(1)\n",
        "        wav_file.setsampwidth(2)\n",
        "        wav_file.setframerate(44100)\n",
        "        wav_file.writeframes(audio)"
      ],
      "metadata": {
        "id": "4IywTEaUBCUK"
      },
      "execution_count": null,
      "outputs": []
    },
    {
      "cell_type": "code",
      "source": [
        "import os\n",
        "\n",
        "def save_recorded_audio(file_name):\n",
        "    audio, sr = get_audio()\n",
        "\n",
        "    file_path = os.path.join('/content/drive/Shareddrives/BME_AI/speech2text/', file_name)\n",
        "\n",
        "    save_audio_as_wav(audio, file_path)\n",
        "    print(f'녹음된 오디오를 WAV 파일로 저장했습니다: {file_path}')\n",
        "\n",
        "    return file_path"
      ],
      "metadata": {
        "id": "JTGHOJE-BDaa"
      },
      "execution_count": null,
      "outputs": []
    },
    {
      "cell_type": "code",
      "source": [
        "import numpy as np\n",
        "\n",
        "file_name = 'recording.wav'\n",
        "\n",
        "file_path = save_recorded_audio(file_name)\n",
        "\n",
        "with wave.open(file_path, 'rb') as wav_file:\n",
        "    frames = wav_file.readframes(wav_file.getnframes())\n",
        "    audio_data = np.frombuffer(frames, dtype=np.int16)"
      ],
      "metadata": {
        "colab": {
          "base_uri": "https://localhost:8080/",
          "height": 113
        },
        "id": "ZBaXQ7RkBFNS",
        "outputId": "a71b7987-6efe-425e-dcdd-dcaa6107b935"
      },
      "execution_count": null,
      "outputs": [
        {
          "output_type": "display_data",
          "data": {
            "text/plain": [
              "<IPython.core.display.HTML object>"
            ],
            "text/html": [
              "\n",
              "<script>\n",
              "var my_div = document.createElement(\"DIV\");\n",
              "var my_p = document.createElement(\"P\");\n",
              "var my_btn = document.createElement(\"BUTTON\");\n",
              "var t = document.createTextNode(\"Press to start recording\");\n",
              "\n",
              "my_btn.appendChild(t);\n",
              "//my_p.appendChild(my_btn);\n",
              "my_div.appendChild(my_btn);\n",
              "document.body.appendChild(my_div);\n",
              "\n",
              "var base64data = 0;\n",
              "var reader;\n",
              "var recorder, gumStream;\n",
              "var recordButton = my_btn;\n",
              "\n",
              "var handleSuccess = function(stream) {\n",
              "  gumStream = stream;\n",
              "  var options = {\n",
              "    //bitsPerSecond: 8000, //chrome seems to ignore, always 48k\n",
              "    mimeType : 'audio/webm;codecs=opus'\n",
              "    //mimeType : 'audio/webm;codecs=pcm'\n",
              "  };\n",
              "  //recorder = new MediaRecorder(stream, options);\n",
              "  recorder = new MediaRecorder(stream);\n",
              "  recorder.ondataavailable = function(e) {\n",
              "    var url = URL.createObjectURL(e.data);\n",
              "    var preview = document.createElement('audio');\n",
              "    preview.controls = true;\n",
              "    preview.src = url;\n",
              "    document.body.appendChild(preview);\n",
              "\n",
              "    reader = new FileReader();\n",
              "    reader.readAsDataURL(e.data);\n",
              "    reader.onloadend = function() {\n",
              "      base64data = reader.result;\n",
              "      //console.log(\"Inside FileReader:\" + base64data);\n",
              "    }\n",
              "  };\n",
              "  recorder.start();\n",
              "  };\n",
              "\n",
              "recordButton.innerText = \"Recording... press to stop\";\n",
              "\n",
              "navigator.mediaDevices.getUserMedia({audio: true}).then(handleSuccess);\n",
              "\n",
              "\n",
              "function toggleRecording() {\n",
              "  if (recorder && recorder.state == \"recording\") {\n",
              "      recorder.stop();\n",
              "      gumStream.getAudioTracks()[0].stop();\n",
              "      recordButton.innerText = \"Saving the recording... pls wait!\"\n",
              "  }\n",
              "}\n",
              "\n",
              "// https://stackoverflow.com/a/951057\n",
              "function sleep(ms) {\n",
              "  return new Promise(resolve => setTimeout(resolve, ms));\n",
              "}\n",
              "\n",
              "var data = new Promise(resolve=>{\n",
              "//recordButton.addEventListener(\"click\", toggleRecording);\n",
              "recordButton.onclick = ()=>{\n",
              "toggleRecording()\n",
              "\n",
              "sleep(2000).then(() => {\n",
              "  // wait 2000ms for the data to be available...\n",
              "  // ideally this should use something like await...\n",
              "  //console.log(\"Inside data:\" + base64data)\n",
              "  resolve(base64data.toString())\n",
              "\n",
              "});\n",
              "\n",
              "}\n",
              "});\n",
              "\n",
              "</script>\n"
            ]
          },
          "metadata": {}
        },
        {
          "output_type": "stream",
          "name": "stdout",
          "text": [
            "녹음된 오디오를 WAV 파일로 저장했습니다: /content/drive/Shareddrives/BME_AI/speech2text/recording.wav\n"
          ]
        }
      ]
    },
    {
      "cell_type": "code",
      "source": [
        "!pip install SpeechRecognition"
      ],
      "metadata": {
        "id": "IrDjzbFNBwpa"
      },
      "execution_count": null,
      "outputs": []
    },
    {
      "cell_type": "code",
      "source": [
        "import speech_recognition as sr\n",
        "\n",
        "r = sr.Recognizer()\n",
        "kr_audio = sr.AudioFile('/content/drive/Shareddrives/BME_AI/speech2text/recording.wav')\n",
        "\n",
        "with kr_audio as source:\n",
        "    audio = r.record(source)\n",
        "\n",
        "#sys.stdout = open('news_out.txt', 'w')\n",
        "print(r.recognize_google(audio, language='ko-KR'))\n",
        "\n",
        "#sys.stdout.close()"
      ],
      "metadata": {
        "colab": {
          "base_uri": "https://localhost:8080/"
        },
        "id": "75N_g-zsBPsS",
        "outputId": "169cf8db-05a8-4245-d285-4f391af85d91"
      },
      "execution_count": null,
      "outputs": [
        {
          "output_type": "stream",
          "name": "stdout",
          "text": [
            "더 아픈 곳은 없어요\n"
          ]
        }
      ]
    },
    {
      "cell_type": "code",
      "source": [
        "!pip install PyKakao --upgrade"
      ],
      "metadata": {
        "id": "Xx4573cqB3yD"
      },
      "execution_count": null,
      "outputs": []
    },
    {
      "cell_type": "code",
      "source": [
        "from PyKakao import KoGPT\n",
        "api = KoGPT(service_key = \"88859c17b103e0e8687565c00348f065\")"
      ],
      "metadata": {
        "id": "AA9zRE4ICx7j"
      },
      "execution_count": null,
      "outputs": []
    },
    {
      "cell_type": "code",
      "source": [
        "basic = '''환자 정보: 질병 루게릭병, 성별 남, 나이 30대, 상태 감기\n",
        "환자 정보를 바탕으로 질문에 답하세요'''\n",
        "question = '''Q:'''+ r.recognize_google(audio, language='ko-KR')\n",
        "answer = '''A:'''\n",
        "\n",
        "prompt = basic + question + answer\n",
        "\n",
        "response = api.generate(prompt, max_tokens=64, temperature=0.5, top_p=0.85, n = 6)"
      ],
      "metadata": {
        "id": "kbGoRIK7C6HD"
      },
      "execution_count": null,
      "outputs": []
    },
    {
      "cell_type": "code",
      "source": [
        "results = response.get('generations')\n",
        "results"
      ],
      "metadata": {
        "colab": {
          "base_uri": "https://localhost:8080/"
        },
        "id": "wUB-msAEC8OM",
        "outputId": "08ccec10-6642-4183-f37e-449155708e01"
      },
      "execution_count": null,
      "outputs": [
        {
          "output_type": "execute_result",
          "data": {
            "text/plain": [
              "[{'text': ' 목이 뻣뻣하고 숨쉬기가 힘들어 병원을 찾았습니다. 의사 선생님이 목 부위가 많이 아프고 근육도 굳었다고 하셨는데, 이 정도면 루게릭병인가요? 루게릭병은 어떤 병인지 궁금합니다. 또 증상 완화법을 알려주세요. 그리고 최근',\n",
              "  'tokens': 64},\n",
              " {'text': '조금씩 움직이는 것이 불편해요. 팔을 머리 위로 올리지 못하고 발뒤꿈치를 들고 있습니다. 손도 잘 올라가지 않아요. 몸의 근육들이 점점 굳어가면서 마비가 오기 시작했어요. 아침저녁마다 재활운동과 치료받으러 가는데 이제는 갈 때',\n",
              "  'tokens': 64},\n",
              " {'text': '몸이 많이 아프고 힘들어서 병원에서 처방해준 약을 먹고 있습니다. 그런데 다른 사람들보다 몸이 너무 많이 아파요. 아침에 일어나면 머리가 깨질 듯이 아프고, 손과 발에 힘이 들어가지 않아요. 그리고 눈도 잘 보이지 않고요. 그래서 밥',\n",
              "  'tokens': 64},\n",
              " {'text': '몸이 많이 안 좋아요. 몸이 아프면 마음도 같이 아파요. Q:언제부터 그랬나요? A:2년 전쯤인 것 같은데... Q:어떤 증상인가요? A:처음엔 조금만 걸어도 다리가 아팠는데 지금은 걷는 게 힘들고 앉아 있어도 숨',\n",
              "  'tokens': 64},\n",
              " {'text': ' 현재 증상이 있나요?네. 기침과 가래가 나오고 콧물도 조금 나요. 하지만 다른 사람들보다 심하진 않아요. 목이 많이 붓는 편인데 가끔씩 숨쉬기가 힘들 때가 있지만 일상생활엔 지장이 없습니다. Q: 식사할 수 있으세요? A:',\n",
              "  'tokens': 64},\n",
              " {'text': '처음엔 손발이 많이 저리고 힘도 잘 안 들어가서 힘들었는데 지금은 괜찮아요. Q:가족 중에도 비슷한 병을 앓는 사람 있나요? A:없습니다. 부모님 모두 건강하시고요. 제가 제일 먼저 죽는다는 생각만 하면 너무 슬퍼요. 하지만 저',\n",
              "  'tokens': 64}]"
            ]
          },
          "metadata": {},
          "execution_count": 26
        }
      ]
    },
    {
      "cell_type": "code",
      "source": [
        "left = []\n",
        "right = []\n",
        "for i in range(len(results)):\n",
        "    if i < len(results)/2:\n",
        "        left.append(results[i].get('text').split('Q')[0].rstrip().replace(\"\\n\",\"\"))\n",
        "\n",
        "    else:\n",
        "        right.append(results[i].get('text').split('Q')[0].rstrip().replace(\"\\n\",\"\"))\n",
        "left, right"
      ],
      "metadata": {
        "colab": {
          "base_uri": "https://localhost:8080/"
        },
        "id": "46bsNMkjC-yh",
        "outputId": "b5a37333-6112-40f1-ff93-06418fd93b9a"
      },
      "execution_count": null,
      "outputs": [
        {
          "output_type": "execute_result",
          "data": {
            "text/plain": [
              "([' 목이 뻣뻣하고 숨쉬기가 힘들어 병원을 찾았습니다. 의사 선생님이 목 부위가 많이 아프고 근육도 굳었다고 하셨는데, 이 정도면 루게릭병인가요? 루게릭병은 어떤 병인지 궁금합니다. 또 증상 완화법을 알려주세요. 그리고 최근',\n",
              "  '조금씩 움직이는 것이 불편해요. 팔을 머리 위로 올리지 못하고 발뒤꿈치를 들고 있습니다. 손도 잘 올라가지 않아요. 몸의 근육들이 점점 굳어가면서 마비가 오기 시작했어요. 아침저녁마다 재활운동과 치료받으러 가는데 이제는 갈 때',\n",
              "  '몸이 많이 아프고 힘들어서 병원에서 처방해준 약을 먹고 있습니다. 그런데 다른 사람들보다 몸이 너무 많이 아파요. 아침에 일어나면 머리가 깨질 듯이 아프고, 손과 발에 힘이 들어가지 않아요. 그리고 눈도 잘 보이지 않고요. 그래서 밥'],\n",
              " ['몸이 많이 안 좋아요. 몸이 아프면 마음도 같이 아파요.',\n",
              "  ' 현재 증상이 있나요?네. 기침과 가래가 나오고 콧물도 조금 나요. 하지만 다른 사람들보다 심하진 않아요. 목이 많이 붓는 편인데 가끔씩 숨쉬기가 힘들 때가 있지만 일상생활엔 지장이 없습니다.',\n",
              "  '처음엔 손발이 많이 저리고 힘도 잘 안 들어가서 힘들었는데 지금은 괜찮아요.'])"
            ]
          },
          "metadata": {},
          "execution_count": 27
        }
      ]
    },
    {
      "cell_type": "code",
      "source": [],
      "metadata": {
        "id": "Gsf8YgEqDAfJ"
      },
      "execution_count": null,
      "outputs": []
    }
  ]
}
