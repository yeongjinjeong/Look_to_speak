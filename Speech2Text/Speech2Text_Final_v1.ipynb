{
 "cells": [
  {
   "cell_type": "code",
   "execution_count": 1,
   "metadata": {},
   "outputs": [],
   "source": [
    "import os\n",
    "os.environ['CUDA_LAUNCH_BLOCKING'] = '1'\n",
    "import torch\n",
    "import torch.nn as nn\n",
    "import torch.optim as optim\n",
    "import pandas as pd\n",
    "from torch.utils.data import Dataset\n",
    "import torchaudio\n",
    "from torch.utils.data import DataLoader\n",
    "import os\n",
    "import numpy as np\n",
    "import torch.nn.functional as F\n",
    "from konlpy.tag import Okt"
   ]
  },
  {
   "cell_type": "code",
   "execution_count": 2,
   "metadata": {},
   "outputs": [],
   "source": [
    "df = pd.read_csv(\"text/part1.csv\")"
   ]
  },
  {
   "cell_type": "code",
   "execution_count": 3,
   "metadata": {},
   "outputs": [],
   "source": [
    "import math\n",
    "\n",
    "class PositionalEncoding(nn.Module):\n",
    "    def __init__(self, d_model, dropout=0.1, max_len=5000):\n",
    "        super(PositionalEncoding, self).__init__()\n",
    "        self.dropout = nn.Dropout(0.1)\n",
    "        pe = torch.zeros(max_len, d_model)\n",
    "        position = torch.arange(0, max_len, dtype=torch.float).unsqueeze(1)\n",
    "        div_term = torch.exp(torch.arange(0,d_model,2).float() * (-math.log(100000.0) / d_model))\n",
    "        pe[:, 0::2] = torch.sin(position*div_term)\n",
    "        pe[:, 1::2] = torch.cos(position*div_term)\n",
    "        pe = pe.unsqueeze(0).transpose(0,1)\n",
    "        self.register_buffer('pe', pe)\n",
    "    def forward(self, x):\n",
    "        x = x + self.pe[:x.size(0), :]\n",
    "        x = self.dropout(x)\n",
    "        return x\n",
    "\n",
    "class SelfAttentionPooling(nn.Module):\n",
    "    def __init__(self, input_dim):\n",
    "        super(SelfAttentionPooling, self).__init__()\n",
    "        self.W = nn.Linear(input_dim, 1)\n",
    "    def forward(self, batch_rep):\n",
    "        softmax = nn.functional.softmax\n",
    "        att_w = softmax(self.W(batch_rep).squeeze(-1)).unsqueeze(-1)\n",
    "        utter_rep = torch.sum(batch_rep * att_w, dim=1)\n",
    "        return utter_rep\n",
    "\n",
    "class myRNN(torch.nn.Module):\n",
    "    def __init__(self,out_size, max_len):\n",
    "        \n",
    "        super().__init__()\n",
    "        \n",
    "        self.max_len = max_len\n",
    "        self.pos_encoder = PositionalEncoding(512, 0.2)\n",
    "        self.self_att_pool = SelfAttentionPooling(512)\n",
    "        self.embedding = torch.nn.Embedding(max_len, 512)\n",
    "                \n",
    "        self.features = torch.nn.GRU(input_size=512,\n",
    "                          hidden_size=512,\n",
    "                          num_layers=2,\n",
    "                          batch_first=True,\n",
    "                          bidirectional=True,\n",
    "                          dropout=0.3)\n",
    "        \n",
    "        encoder_layer = torch.nn.TransformerEncoderLayer(d_model=512,\n",
    "                                                        nhead=4,\n",
    "                                                        dim_feedforward=256,\n",
    "                                                        dropout=0.2,\n",
    "                                                        activation=\"relu\")\n",
    "        self.encoder = torch.nn.TransformerEncoder(encoder_layer,\n",
    "                                                   num_layers=2)\n",
    "\n",
    "        self.classifier = torch.nn.Sequential(\n",
    "            torch.nn.Linear(443232,512),\n",
    "            torch.nn.Dropout(0.3),\n",
    "            torch.nn.Linear(512, 512),\n",
    "            torch.nn.Dropout(0.3),\n",
    "        )\n",
    "        self.hidden = torch.nn.Linear(512*4, 1024)\n",
    "        \n",
    "        \n",
    "        self.output = torch.nn.Sequential(\n",
    "            torch.nn.Linear(1024, 512),\n",
    "            torch.nn.ReLU(),\n",
    "            torch.nn.Dropout(0.3),\n",
    "            torch.nn.Linear(512, output_size),\n",
    "        )\n",
    "        \n",
    "        self.output_prob = torch.nn.Sequential(\n",
    "            torch.nn.Conv2d(1,29,3,1,1),\n",
    "            torch.nn.ReLU(),\n",
    "            torch.nn.Conv2d(29,29,3,1,1),\n",
    "            torch.nn.Softmax(),\n",
    "        )\n",
    "        \n",
    "    def init_weights(self):\n",
    "        torch.nn.init.xavier_normal_(self.classifier.weight.data, gain=1.0)\n",
    "        torch.nn.init.xavier_normal_(self.encoder.weight.data, gain=1.0)\n",
    "        torch.nn.init.xavier_uniform_(self.features.weight.data, gain=1.0)\n",
    "\n",
    "    def forward(self, x, length):\n",
    "        idx = torch.randint(0,self.max_len,(1,length)).to(device)\n",
    "        #print(\"inital x shape : \", x.shape)\n",
    "        x = self.classifier(x)\n",
    "#         print(\"conv : \",x.shape)\n",
    "        x = self.pos_encoder(x) ## [batch, embedding dim, sequence]\n",
    "#         print(\"pos_encoder : \",x.shape)\n",
    "        x = self.encoder(x)\n",
    "#         print(\"encoder : \", x.shape)\n",
    "        x = x.permute(1,0,2)\n",
    "        x = self.self_att_pool(x)\n",
    "#         print(\"att_pool : \",x.shape)\n",
    "        emb = self.embedding(idx)\n",
    "        emb = self.pos_encoder(emb)\n",
    "        emb = self.self_att_pool(emb)\n",
    "        \n",
    "        x = torch.add(x,emb)        \n",
    "        features, h = self.features(x)\n",
    "        h = self.hidden(h.flatten()).unsqueeze(0)\n",
    "        features = torch.add(features, h)\n",
    "#         print(\"GRU : \", features.shape)\n",
    "        output = self.output(features)\n",
    "#         print(\"output : \", output.shape)\n",
    "        output = output.unsqueeze(1)\n",
    "#         print(output.shape)\n",
    "        output = self.output_prob(output)\n",
    "        output = output.permute(1,0,2)\n",
    "#         print(output.shape)\n",
    "        return output"
   ]
  },
  {
   "cell_type": "code",
   "execution_count": 4,
   "metadata": {},
   "outputs": [],
   "source": [
    "df = df[:1000]\n",
    "df = df.dropna()\n",
    "df = df[df['sex'] == '여성']\n",
    "df = df.reset_index()\n",
    "okt = Okt()\n",
    "df['token']=df['form'].apply(okt.morphs)"
   ]
  },
  {
   "cell_type": "code",
   "execution_count": 5,
   "metadata": {},
   "outputs": [],
   "source": [
    "bin_list = []\n",
    "for i in range(len(df.index)):\n",
    "    if df[\"token\"][i] not in bin_list:\n",
    "        bin_list.append(df[\"token\"][i])\n",
    "bin_list = sum(bin_list,[])"
   ]
  },
  {
   "cell_type": "code",
   "execution_count": 6,
   "metadata": {},
   "outputs": [],
   "source": [
    "bin_list2 = []\n",
    "for i in range(len(bin_list)):\n",
    "    temp = bin_list[i]\n",
    "    if temp not in bin_list2:\n",
    "        bin_list2.append(temp)"
   ]
  },
  {
   "cell_type": "code",
   "execution_count": 7,
   "metadata": {},
   "outputs": [],
   "source": [
    "lookup = {tkn: i+4 for i, tkn in enumerate(bin_list2)}\n",
    "lookup[\"unk\"] = 0\n",
    "lookup[\"pad\"] = 1\n",
    "lookup[\"bos\"] = 2\n",
    "lookup[\"eos\"] = 3"
   ]
  },
  {
   "cell_type": "code",
   "execution_count": 8,
   "metadata": {},
   "outputs": [],
   "source": [
    "max = 0\n",
    "for i in range(len(df)):\n",
    "    temp = len(df[\"token\"][i])\n",
    "    if max < temp:\n",
    "        max = temp"
   ]
  },
  {
   "cell_type": "code",
   "execution_count": 9,
   "metadata": {},
   "outputs": [],
   "source": [
    "class CustomDataset(Dataset):\n",
    "    def __init__(self, dataframe, wav_dir, bin_list):\n",
    "        self.data = dataframe\n",
    "        self.wav_dir = wav_dir\n",
    "\n",
    "    def __len__(self):\n",
    "        return len(self.data)\n",
    "\n",
    "    def __getitem__(self, index):\n",
    "        file_id = self.data.iloc[index,1] ##id\n",
    "        wav_path = os.path.join(self.wav_dir, f'{file_id}.wav')\n",
    "        audio, _ = torchaudio.load(wav_path)\n",
    "        text = self.data.iloc[index,-1]\n",
    "        \n",
    "        token_indices = [lookup[\"bos\"]]\n",
    "        for i in range(len(text)):\n",
    "            token_indices.append(lookup[text[i]])\n",
    "        token_indices.append(lookup[\"eos\"])\n",
    "        desired_length = max\n",
    "        l = len(token_indices)\n",
    "        \n",
    "        token_indices += [1] * (desired_length - len(token_indices))\n",
    "        token_indices = torch.tensor(token_indices).type(torch.LongTensor)\n",
    "\n",
    "        return audio, text, token_indices, l"
   ]
  },
  {
   "cell_type": "code",
   "execution_count": 10,
   "metadata": {},
   "outputs": [
    {
     "data": {
      "text/plain": [
       "((700, 10), (200, 10), (100, 10))"
      ]
     },
     "execution_count": 10,
     "metadata": {},
     "output_type": "execute_result"
    }
   ],
   "source": [
    "a,b,c = int(len(df)*7/10), int(len(df)*2/10), int(len(df)*1/10)\n",
    "train_df = df[:a]\n",
    "train_df.reset_index(drop=True, inplace=True)\n",
    "valid_df = df[a:a+b]\n",
    "valid_df.reset_index(drop=True, inplace=True)\n",
    "test_df = df[a+b:]\n",
    "test_df.reset_index(drop=True, inplace=True)\n",
    "train_df.shape, valid_df.shape, test_df.shape"
   ]
  },
  {
   "cell_type": "code",
   "execution_count": 11,
   "metadata": {},
   "outputs": [],
   "source": [
    "# 데이터셋 생성\n",
    "batch_size = 1\n",
    "v_batch_size = 1\n",
    "num_classes = len(df)  \n",
    "device = torch.device(\"cuda\" if torch.cuda.is_available() else \"cpu\")\n",
    "\n",
    "wav_dir = './wav_fixed_10mil'\n",
    "dataset = CustomDataset(train_df, wav_dir,bin_list2)\n",
    "dataloader = DataLoader(dataset, batch_size=batch_size, shuffle=True, num_workers=8)\n",
    "\n",
    "vdataset = CustomDataset(valid_df, wav_dir,bin_list2)\n",
    "vdataloader = DataLoader(vdataset, batch_size=v_batch_size, shuffle=False, num_workers=8)\n",
    "\n",
    "tsdataset = CustomDataset(test_df, wav_dir,bin_list2)\n",
    "tsdataloader = DataLoader(tsdataset, batch_size=1, shuffle=False)"
   ]
  },
  {
   "cell_type": "code",
   "execution_count": 12,
   "metadata": {},
   "outputs": [
    {
     "data": {
      "text/plain": [
       "(torch.Size([1, 2, 100000]), 12, torch.Size([1, 29]), tensor([14]))"
      ]
     },
     "execution_count": 12,
     "metadata": {},
     "output_type": "execute_result"
    }
   ],
   "source": [
    "audio, text, token, l = next(iter(dataloader))\n",
    "audio.shape, len(text), token.shape, l"
   ]
  },
  {
   "cell_type": "code",
   "execution_count": 13,
   "metadata": {},
   "outputs": [],
   "source": [
    "input_size = audio.shape[-1]\n",
    "hidden_size = 512\n",
    "output_size = max"
   ]
  },
  {
   "cell_type": "code",
   "execution_count": 14,
   "metadata": {},
   "outputs": [],
   "source": [
    "model = myRNN(output_size, len(lookup)).to(device)\n",
    "# criterion = nn.CrossEntropyLoss()\n",
    "criterion = nn.CrossEntropyLoss(reduction=\"mean\")\n",
    "optimizer = optim.AdamW(model.parameters(),\n",
    "                        lr=1e-03,\n",
    "                        betas=(0.9,0.98))\n",
    "scheduler = optim.lr_scheduler.StepLR(optimizer,\n",
    "                                      step_size=30.0,\n",
    "                                      gamma=0.95)\n",
    "total_step = len(dataloader)"
   ]
  },
  {
   "cell_type": "code",
   "execution_count": 15,
   "metadata": {},
   "outputs": [
    {
     "name": "stdout",
     "output_type": "stream",
     "text": [
      "Sat Jun 10 19:29:04 2023       \r\n",
      "+-----------------------------------------------------------------------------+\r\n",
      "| NVIDIA-SMI 525.105.17   Driver Version: 525.105.17   CUDA Version: 12.0     |\r\n",
      "|-------------------------------+----------------------+----------------------+\r\n",
      "| GPU  Name        Persistence-M| Bus-Id        Disp.A | Volatile Uncorr. ECC |\r\n",
      "| Fan  Temp  Perf  Pwr:Usage/Cap|         Memory-Usage | GPU-Util  Compute M. |\r\n",
      "|                               |                      |               MIG M. |\r\n",
      "|===============================+======================+======================|\r\n",
      "|   0  NVIDIA RTX A4500    Off  | 00000000:73:00.0 Off |                  Off |\r\n",
      "| 30%   39C    P2    54W / 200W |  18847MiB / 20470MiB |      0%      Default |\r\n",
      "|                               |                      |                  N/A |\r\n",
      "+-------------------------------+----------------------+----------------------+\r\n",
      "                                                                               \r\n",
      "+-----------------------------------------------------------------------------+\r\n",
      "| Processes:                                                                  |\r\n",
      "|  GPU   GI   CI        PID   Type   Process name                  GPU Memory |\r\n",
      "|        ID   ID                                                   Usage      |\r\n",
      "|=============================================================================|\r\n",
      "|    0   N/A  N/A      1255      G   /usr/lib/xorg/Xorg                 64MiB |\r\n",
      "|    0   N/A  N/A      1436      G   /usr/bin/gnome-shell                6MiB |\r\n",
      "|    0   N/A  N/A      2746      C   ...a/envs/virtual/bin/python    16830MiB |\r\n",
      "|    0   N/A  N/A     48496      C   ...a/envs/virtual/bin/python     1942MiB |\r\n",
      "+-----------------------------------------------------------------------------+\r\n"
     ]
    }
   ],
   "source": [
    "!nvidia-smi"
   ]
  },
  {
   "cell_type": "code",
   "execution_count": 17,
   "metadata": {
    "scrolled": false
   },
   "outputs": [
    {
     "ename": "RuntimeError",
     "evalue": "CUDA error: device-side assert triggered\nCompile with `TORCH_USE_CUDA_DSA` to enable device-side assertions.\n",
     "output_type": "error",
     "traceback": [
      "\u001b[0;31m---------------------------------------------------------------------------\u001b[0m",
      "\u001b[0;31mRuntimeError\u001b[0m                              Traceback (most recent call last)",
      "Cell \u001b[0;32mIn[17], line 12\u001b[0m\n\u001b[1;32m      9\u001b[0m     torch\u001b[38;5;241m.\u001b[39msave(model\u001b[38;5;241m.\u001b[39mstate_dict(), \u001b[38;5;124m\"\u001b[39m\u001b[38;5;124m./model/Speech2Text.pt\u001b[39m\u001b[38;5;124m\"\u001b[39m)\n\u001b[1;32m     11\u001b[0m \u001b[38;5;28;01mfor\u001b[39;00m i, (audio, token, text, l) \u001b[38;5;129;01min\u001b[39;00m \u001b[38;5;28menumerate\u001b[39m(dataloader):\n\u001b[0;32m---> 12\u001b[0m     audio \u001b[38;5;241m=\u001b[39m \u001b[43maudio\u001b[49m\u001b[38;5;241;43m.\u001b[39;49m\u001b[43mto\u001b[49m\u001b[43m(\u001b[49m\u001b[43mdevice\u001b[49m\u001b[43m)\u001b[49m\n\u001b[1;32m     13\u001b[0m     audio \u001b[38;5;241m=\u001b[39m torch\u001b[38;5;241m.\u001b[39mreshape(audio, (\u001b[38;5;241m1\u001b[39m, \u001b[38;5;241m2\u001b[39m\u001b[38;5;241m*\u001b[39m\u001b[38;5;241m221616\u001b[39m))\n\u001b[1;32m     14\u001b[0m     text \u001b[38;5;241m=\u001b[39m text\u001b[38;5;241m.\u001b[39mto(device)\n",
      "\u001b[0;31mRuntimeError\u001b[0m: CUDA error: device-side assert triggered\nCompile with `TORCH_USE_CUDA_DSA` to enable device-side assertions.\n"
     ]
    }
   ],
   "source": [
    "num_epochs = 512\n",
    "model.train()\n",
    "for epoch in range(num_epochs):\n",
    "    total_loss = 0.0\n",
    "    total_correct = 0\n",
    "    vtotal_loss = 0\n",
    "    vtotal_correct = 0\n",
    "    if (epoch + 1) % 2 == 0:\n",
    "        torch.save(model.state_dict(), \"./model/Speech2Text.pt\")\n",
    "\n",
    "    for i, (audio, token, text, l) in enumerate(dataloader):\n",
    "        audio = audio.to(device)\n",
    "        audio = torch.reshape(audio, (1, 2*221616))\n",
    "        text = text.to(device)\n",
    "\n",
    "        outputs = model(audio, l)\n",
    "        print(outputs.shape, text.shape)\n",
    "#         print(outputs.dtype, text.dtype)\n",
    "        loss = criterion(outputs, text)\n",
    "\n",
    "        optimizer.zero_grad()\n",
    "        loss.backward()\n",
    "        optimizer.step()\n",
    "\n",
    "        total_loss += loss.item()\n",
    "        _, predicted = torch.max(outputs, 1)\n",
    "        text = text.view(-1, 1)\n",
    "        total_correct += (predicted == text).sum().item()\n",
    "        if (i + 1) % 10 == 0:\n",
    "            print(f'Epoch [{epoch+1}/{num_epochs}], Step [{i+1}/{total_step}], Loss: {loss.item():.4f}')\n",
    "            \n",
    "        if epoch%32==0 and i==0:\n",
    "            model.eval()\n",
    "            for i, (audio, token,text,l) in enumerate(vdataloader):\n",
    "                audio,text = audio.to(device), text.to(device)\n",
    "                outputs = model(audio, l)\n",
    "                loss = criterion(outputs, text)\n",
    "                vtotal_loss += loss.item()\n",
    "                _, predicted = torch.max(outputs, 1)\n",
    "                text = text.view(-1,1)\n",
    "                vtotal_correct += (predicted == text).sum().item()\n",
    "                \n",
    "                \n",
    "                epoch_loss = vtotal_loss / total_step\n",
    "                epoch_acc = vtotal_correct / (batch_size * total_step)\n",
    "                print(\"---\"*10)\n",
    "                print(\"Validation\")\n",
    "                print(f'Epoch [{epoch+1}/{num_epochs}], Loss: {epoch_loss:.4f}, Accuracy: {epoch_acc:.4f}')\n",
    "                print(\"---\"*10)\n",
    "\n",
    "    epoch_loss = total_loss / total_step\n",
    "    epoch_acc = total_correct / (batch_size * total_step)\n",
    "\n",
    "    print(f'Epoch [{epoch+1}/{num_epochs}], Loss: {epoch_loss:.4f}, Accuracy: {epoch_acc:.4f}')\n",
    "    scheduler.step()"
   ]
  },
  {
   "cell_type": "code",
   "execution_count": 27,
   "metadata": {},
   "outputs": [],
   "source": [
    "model.train()\n",
    "for epoch in range(10000):\n",
    "    total_loss = 0.0\n",
    "    total_correct = 0\n",
    "    \n",
    "    if (epoch + 1) % 2 == 0:\n",
    "        torch.save(model, \"./model/Speech2Text.pt\")\n",
    "\n",
    "    for i, (audio, text) in enumerate(dataloader):\n",
    "        audio = audio.to(device)\n",
    "        #print(audio.shape)\n",
    "        audio = torch.reshape(audio, (1, 2*221616))\n",
    "        text = text.to(device)\n",
    "\n",
    "        outputs = model(audio)\n",
    "#         print(outputs)\n",
    "#         print(text.shape)\n",
    "\n",
    "        loss = criterion(outputs, text)\n",
    "\n",
    "        optimizer.zero_grad()\n",
    "        loss.backward()\n",
    "        optimizer.step()\n",
    "\n",
    "        total_loss += loss.item()\n",
    "        _, predicted = torch.max(outputs, 1)\n",
    "        text = text.view(-1, 1)\n",
    "        total_correct += (predicted == text).sum().item()\n",
    "        if (i + 1) % 10 == 0:\n",
    "            print(f'Epoch [{epoch+1}/{num_epochs}], Step [{i+1}/{total_step}], Loss: {loss.item():.4f}')\n",
    "#             print(f\"Transcription : {[reverse[int(i*len(lookup))] for i in outputs[0]]}\")\n",
    "#             print(f\"Text : {[reverse[int(i*len(lookup))] for i in text]}\")\n",
    "\n",
    "    epoch_loss = total_loss / total_step\n",
    "    epoch_acc = total_correct / (batch_size * total_step)\n",
    "\n",
    "    print(f'Epoch [{epoch+1}/{num_epochs}], Loss: {epoch_loss:.4f}, Accuracy: {epoch_acc:.4f}')\n",
    "    scheduler.step()"
   ]
  },
  {
   "cell_type": "code",
   "execution_count": 20,
   "metadata": {},
   "outputs": [],
   "source": [
    "def predict(model, input_file):\n",
    "    model.eval()  # 모델을 평가 모드로 설정\n",
    "    \n",
    "    audio, _ = torchaudio.load(input_file)  \n",
    "    audio = audio.unsqueeze(0).to(device) \n",
    "\n",
    "    output = model(audio) \n",
    "\n",
    "    return output.int().detach()"
   ]
  },
  {
   "cell_type": "code",
   "execution_count": 21,
   "metadata": {},
   "outputs": [],
   "source": [
    "output = predict(model,'./wav_all_stereo(fixed_length)/SDRW2000000414.1.1.18.wav')"
   ]
  },
  {
   "cell_type": "code",
   "execution_count": 22,
   "metadata": {},
   "outputs": [],
   "source": [
    "output[0,1]"
   ]
  },
  {
   "cell_type": "code",
   "execution_count": 24,
   "metadata": {},
   "outputs": [],
   "source": [
    "reverse = dict(map(reversed,lookup.items()))"
   ]
  },
  {
   "cell_type": "code",
   "execution_count": 25,
   "metadata": {},
   "outputs": [],
   "source": [
    "out = []\n",
    "for i in range(len(output[0])):\n",
    "    out.append(reverse[output[0,i].item()])\n",
    "out"
   ]
  },
  {
   "cell_type": "code",
   "execution_count": null,
   "metadata": {},
   "outputs": [],
   "source": []
  }
 ],
 "metadata": {
  "kernelspec": {
   "display_name": "Python 3 (ipykernel)",
   "language": "python",
   "name": "python3"
  },
  "language_info": {
   "codemirror_mode": {
    "name": "ipython",
    "version": 3
   },
   "file_extension": ".py",
   "mimetype": "text/x-python",
   "name": "python",
   "nbconvert_exporter": "python",
   "pygments_lexer": "ipython3",
   "version": "3.8.16"
  }
 },
 "nbformat": 4,
 "nbformat_minor": 2
}
