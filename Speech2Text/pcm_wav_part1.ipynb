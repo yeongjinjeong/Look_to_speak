{
 "cells": [
  {
   "cell_type": "code",
   "execution_count": 1,
   "id": "7536fafc",
   "metadata": {},
   "outputs": [],
   "source": [
    "import os\n",
    "from glob import glob\n",
    "\n",
    "import numpy as np\n",
    "import pandas as pd\n",
    "import matplotlib.pyplot as plt\n",
    "import warnings\n",
    "warnings.filterwarnings(action=\"ignore\")\n",
    "    \n",
    "all_data_path = []\n",
    "for i in range(1,5):\n",
    "    path = f\"../NIKL_DIALOGUE_2020_PCM_v1.3_part{i}/pcm\"\n",
    "    folder_names = os.listdir(path)\n",
    "    folder_names = [folder_name for folder_name in folder_names]\n",
    "    #print(folder_names)\n",
    "\n",
    "    data_lst = []\n",
    "    for folder_name in folder_names:\n",
    "        file_names = os.listdir('{}/{}'.format(path, folder_name))\n",
    "        file_names = [file_name for file_name in file_names]\n",
    "    #     print(file_names)\n",
    "\n",
    "        for file_name in file_names:\n",
    "            if file_name in file_names:\n",
    "                file_path = '{}/{}/{}'.format(path, folder_name, file_name)\n",
    "                data_lst.append(file_path)\n",
    "    all_data_path.append(data_lst)"
   ]
  },
  {
   "cell_type": "code",
   "execution_count": 2,
   "id": "cb1f6779",
   "metadata": {},
   "outputs": [],
   "source": [
    "df =  pd.DataFrame(all_data_path[0])"
   ]
  },
  {
   "cell_type": "code",
   "execution_count": 3,
   "id": "d2ed68f2",
   "metadata": {},
   "outputs": [
    {
     "data": {
      "text/plain": [
       "'../NIKL_DIALOGUE_2020_PCM_v1.3_part1/pcm/SDRW2000000408/SDRW2000000408.1.1.287.pcm'"
      ]
     },
     "execution_count": 3,
     "metadata": {},
     "output_type": "execute_result"
    }
   ],
   "source": [
    "df [0][0]"
   ]
  },
  {
   "cell_type": "code",
   "execution_count": 4,
   "id": "4e03e261",
   "metadata": {},
   "outputs": [],
   "source": [
    "import struct\n",
    "import pathlib\n",
    "import os\n",
    "\n",
    "def make_wav_format(pcm_data: bytes, ch: int) -> bytes:\n",
    "    waves = []\n",
    "    waves.append(struct.pack('<4s', b'RIFF'))\n",
    "    waves.append(struct.pack('I', 1))\n",
    "    waves.append(struct.pack('4s', b'WAVE'))\n",
    "    waves.append(struct.pack('4s', b'fmt '))\n",
    "    waves.append(struct.pack('I', 16))\n",
    "\n",
    "    if ch == 2:\n",
    "        waves.append(struct.pack('HHIIHH', 1, 2, 16000, 64000, 4, 16))\n",
    "    else:\n",
    "        waves.append(struct.pack('HHIIHH', 1, 1, 16000, 32000, 2, 16))\n",
    "    waves.append(struct.pack('<4s', b'data'))\n",
    "    waves.append(struct.pack('I', len(pcm_data)))\n",
    "    waves.append(pcm_data)\n",
    "    waves[1] = struct.pack('I', sum(len(w) for w in waves[2:]))\n",
    "    return b''.join(waves)\n",
    "\n",
    "# 디렉토리 생성\n",
    "output_dir = 'wav_part1'\n",
    "os.makedirs(output_dir, exist_ok=True)\n",
    "\n",
    "count = 0\n",
    "for i in range(len(df.index)):\n",
    "    pcm_bytes = pathlib.Path(df.iloc[i, 0]).read_bytes()\n",
    "    wav_bytes = make_wav_format(pcm_bytes, 1)\n",
    "\n",
    "    # WAV 파일 경로 생성\n",
    "    file_name = os.path.basename(df.iloc[i, 0])\n",
    "    file_name_without_extension = os.path.splitext(file_name)[0]\n",
    "    wav_file_name = file_name_without_extension + '.wav'\n",
    "    wav_file_path = os.path.join(output_dir, wav_file_name)\n",
    "\n",
    "    # WAV 파일 저장\n",
    "    with open(wav_file_path, 'wb') as file:\n",
    "        file.write(wav_bytes)"
   ]
  },
  {
   "cell_type": "code",
   "execution_count": null,
   "id": "8693e1c1",
   "metadata": {},
   "outputs": [],
   "source": []
  }
 ],
 "metadata": {
  "kernelspec": {
   "display_name": "Python 3 (ipykernel)",
   "language": "python",
   "name": "python3"
  },
  "language_info": {
   "codemirror_mode": {
    "name": "ipython",
    "version": 3
   },
   "file_extension": ".py",
   "mimetype": "text/x-python",
   "name": "python",
   "nbconvert_exporter": "python",
   "pygments_lexer": "ipython3",
   "version": "3.8.16"
  }
 },
 "nbformat": 4,
 "nbformat_minor": 5
}
