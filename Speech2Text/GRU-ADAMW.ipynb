{
 "cells": [
  {
   "cell_type": "code",
   "execution_count": null,
   "metadata": {},
   "outputs": [],
   "source": [
    "import torch\n",
    "import torch.nn as nn\n",
    "import torch.optim as optim\n",
    "import pandas as pd\n",
    "from torch.utils.data import Dataset\n",
    "import torchaudio\n",
    "from torch.utils.data import DataLoader\n",
    "import os\n",
    "import numpy as np\n",
    "import torch.nn.functional as F\n",
    "from konlpy.tag import Okt"
   ]
  },
  {
   "cell_type": "code",
   "execution_count": 5,
   "metadata": {},
   "outputs": [],
   "source": [
    "df = pd.read_csv(\"text/part1.csv\")"
   ]
  },
  {
   "cell_type": "code",
   "execution_count": 6,
   "metadata": {},
   "outputs": [
    {
     "data": {
      "text/html": [
       "<div>\n",
       "<style scoped>\n",
       "    .dataframe tbody tr th:only-of-type {\n",
       "        vertical-align: middle;\n",
       "    }\n",
       "\n",
       "    .dataframe tbody tr th {\n",
       "        vertical-align: top;\n",
       "    }\n",
       "\n",
       "    .dataframe thead th {\n",
       "        text-align: right;\n",
       "    }\n",
       "</style>\n",
       "<table border=\"1\" class=\"dataframe\">\n",
       "  <thead>\n",
       "    <tr style=\"text-align: right;\">\n",
       "      <th></th>\n",
       "      <th>id</th>\n",
       "      <th>form</th>\n",
       "      <th>original_form</th>\n",
       "      <th>speaker_id</th>\n",
       "      <th>start</th>\n",
       "      <th>end</th>\n",
       "      <th>age</th>\n",
       "      <th>sex</th>\n",
       "    </tr>\n",
       "  </thead>\n",
       "  <tbody>\n",
       "    <tr>\n",
       "      <th>0</th>\n",
       "      <td>SDRW2000000319.1.1.1</td>\n",
       "      <td>병역 특례를 받아</td>\n",
       "      <td>병역 특례를 받아</td>\n",
       "      <td>SD2001645</td>\n",
       "      <td>4.04903</td>\n",
       "      <td>5.83905</td>\n",
       "      <td>10대</td>\n",
       "      <td>여성</td>\n",
       "    </tr>\n",
       "    <tr>\n",
       "      <th>1</th>\n",
       "      <td>SDRW2000000319.1.1.2</td>\n",
       "      <td>법정 봉사활동 기 시간을 채워야 하는</td>\n",
       "      <td>법정 봉사활동 기 시간을 채워야 하는</td>\n",
       "      <td>SD2001645</td>\n",
       "      <td>5.84901</td>\n",
       "      <td>8.89405</td>\n",
       "      <td>10대</td>\n",
       "      <td>여성</td>\n",
       "    </tr>\n",
       "    <tr>\n",
       "      <th>2</th>\n",
       "      <td>SDRW2000000319.1.1.3</td>\n",
       "      <td>예술</td>\n",
       "      <td>예술</td>\n",
       "      <td>SD2001645</td>\n",
       "      <td>8.90407</td>\n",
       "      <td>9.52506</td>\n",
       "      <td>10대</td>\n",
       "      <td>여성</td>\n",
       "    </tr>\n",
       "    <tr>\n",
       "      <th>3</th>\n",
       "      <td>SDRW2000000319.1.1.4</td>\n",
       "      <td>또는 체육 요원의 절반가량이</td>\n",
       "      <td>또는 체육 요원의 절반가량이</td>\n",
       "      <td>SD2001645</td>\n",
       "      <td>9.53506</td>\n",
       "      <td>12.05203</td>\n",
       "      <td>10대</td>\n",
       "      <td>여성</td>\n",
       "    </tr>\n",
       "    <tr>\n",
       "      <th>4</th>\n",
       "      <td>SDRW2000000319.1.1.5</td>\n",
       "      <td>허위 자료를 내거나</td>\n",
       "      <td>허위 자료를 내거나</td>\n",
       "      <td>SD2001645</td>\n",
       "      <td>12.06204</td>\n",
       "      <td>13.79504</td>\n",
       "      <td>10대</td>\n",
       "      <td>여성</td>\n",
       "    </tr>\n",
       "    <tr>\n",
       "      <th>...</th>\n",
       "      <td>...</td>\n",
       "      <td>...</td>\n",
       "      <td>...</td>\n",
       "      <td>...</td>\n",
       "      <td>...</td>\n",
       "      <td>...</td>\n",
       "      <td>...</td>\n",
       "      <td>...</td>\n",
       "    </tr>\n",
       "    <tr>\n",
       "      <th>213188</th>\n",
       "      <td>SDRW2000000418.1.1.326</td>\n",
       "      <td>우선</td>\n",
       "      <td>우선</td>\n",
       "      <td>SD2000552</td>\n",
       "      <td>908.12707</td>\n",
       "      <td>909.98106</td>\n",
       "      <td>10대</td>\n",
       "      <td>여성</td>\n",
       "    </tr>\n",
       "    <tr>\n",
       "      <th>213189</th>\n",
       "      <td>SDRW2000000418.1.1.327</td>\n",
       "      <td>맛있는 음식들 먹으면서</td>\n",
       "      <td>맛있는 음식들 먹으면서</td>\n",
       "      <td>SD2000552</td>\n",
       "      <td>909.99104</td>\n",
       "      <td>912.25405</td>\n",
       "      <td>10대</td>\n",
       "      <td>여성</td>\n",
       "    </tr>\n",
       "    <tr>\n",
       "      <th>213190</th>\n",
       "      <td>SDRW2000000418.1.1.328</td>\n",
       "      <td>겝</td>\n",
       "      <td>겝</td>\n",
       "      <td>SD2000552</td>\n",
       "      <td>912.26403</td>\n",
       "      <td>913.64807</td>\n",
       "      <td>10대</td>\n",
       "      <td>여성</td>\n",
       "    </tr>\n",
       "    <tr>\n",
       "      <th>213191</th>\n",
       "      <td>SDRW2000000418.1.1.329</td>\n",
       "      <td>먹으면서 저도 같이 맛있어 보이는 느낌이라서</td>\n",
       "      <td>먹으면서 저도 같이 맛있어 보이는 느낌이라서</td>\n",
       "      <td>SD2000552</td>\n",
       "      <td>913.65802</td>\n",
       "      <td>917.87305</td>\n",
       "      <td>10대</td>\n",
       "      <td>여성</td>\n",
       "    </tr>\n",
       "    <tr>\n",
       "      <th>213192</th>\n",
       "      <td>SDRW2000000418.1.1.330</td>\n",
       "      <td>더 좋은 거 같아요.</td>\n",
       "      <td>더 좋은 거 같아요.</td>\n",
       "      <td>SD2000552</td>\n",
       "      <td>917.88301</td>\n",
       "      <td>919.84207</td>\n",
       "      <td>10대</td>\n",
       "      <td>여성</td>\n",
       "    </tr>\n",
       "  </tbody>\n",
       "</table>\n",
       "<p>213193 rows × 8 columns</p>\n",
       "</div>"
      ],
      "text/plain": [
       "                            id                      form   \n",
       "0         SDRW2000000319.1.1.1                 병역 특례를 받아  \\\n",
       "1         SDRW2000000319.1.1.2      법정 봉사활동 기 시간을 채워야 하는   \n",
       "2         SDRW2000000319.1.1.3                        예술   \n",
       "3         SDRW2000000319.1.1.4           또는 체육 요원의 절반가량이   \n",
       "4         SDRW2000000319.1.1.5                허위 자료를 내거나   \n",
       "...                        ...                       ...   \n",
       "213188  SDRW2000000418.1.1.326                        우선   \n",
       "213189  SDRW2000000418.1.1.327              맛있는 음식들 먹으면서   \n",
       "213190  SDRW2000000418.1.1.328                         겝   \n",
       "213191  SDRW2000000418.1.1.329  먹으면서 저도 같이 맛있어 보이는 느낌이라서   \n",
       "213192  SDRW2000000418.1.1.330               더 좋은 거 같아요.   \n",
       "\n",
       "                   original_form speaker_id      start        end  age sex  \n",
       "0                      병역 특례를 받아  SD2001645    4.04903    5.83905  10대  여성  \n",
       "1           법정 봉사활동 기 시간을 채워야 하는  SD2001645    5.84901    8.89405  10대  여성  \n",
       "2                             예술  SD2001645    8.90407    9.52506  10대  여성  \n",
       "3                또는 체육 요원의 절반가량이  SD2001645    9.53506   12.05203  10대  여성  \n",
       "4                     허위 자료를 내거나  SD2001645   12.06204   13.79504  10대  여성  \n",
       "...                          ...        ...        ...        ...  ...  ..  \n",
       "213188                        우선  SD2000552  908.12707  909.98106  10대  여성  \n",
       "213189              맛있는 음식들 먹으면서  SD2000552  909.99104  912.25405  10대  여성  \n",
       "213190                         겝  SD2000552  912.26403  913.64807  10대  여성  \n",
       "213191  먹으면서 저도 같이 맛있어 보이는 느낌이라서  SD2000552  913.65802  917.87305  10대  여성  \n",
       "213192               더 좋은 거 같아요.  SD2000552  917.88301  919.84207  10대  여성  \n",
       "\n",
       "[213193 rows x 8 columns]"
      ]
     },
     "execution_count": 6,
     "metadata": {},
     "output_type": "execute_result"
    }
   ],
   "source": [
    "df"
   ]
  },
  {
   "cell_type": "code",
   "execution_count": 29,
   "metadata": {},
   "outputs": [],
   "source": [
    "class GRUModel(nn.Module):\n",
    "    def __init__(self, input_size, hidden_size, output_size):\n",
    "        super(GRUModel, self).__init__()\n",
    "        self.hidden_size = hidden_size\n",
    "        self.gru1 = nn.GRU(input_size, hidden_size, batch_first=True)\n",
    "        self.gru2 = nn.GRU(hidden_size, hidden_size, batch_first=True)  # Additional GRU layer\n",
    "        self.gru3 = nn.GRU(hidden_size, hidden_size, batch_first=True)\n",
    "        self.gru4 = nn.GRU(hidden_size, hidden_size, batch_first=True)\n",
    "        self.fc = nn.Linear(hidden_size, output_size)\n",
    "        self.relu = nn.ReLU()\n",
    "#         self.init = nn.init.xavier_normal_(tensor, gain=1.0)\n",
    "#         self.softmax = nn.Softmax()\n",
    "        \n",
    "    def forward(self, x):\n",
    "        h0 = nn.init.xavier_uniform_(torch.randn(1, x.size(0), self.hidden_size).to(x.device), gain=1.0)\n",
    "        #c0 = torch.randn(1, x.size(0), self.hidden_size).to(x.device)\n",
    "        hidden_state0 = h0.cpu().detach().numpy()\n",
    "        output, hidden1 = self.gru1(x, (h0))\n",
    "        hidden_state1 = hidden1.cpu().detach().numpy()\n",
    "        output, hidden2 = self.gru2(self.relu(output), hidden1) # Pass output through the second LSTM layer\n",
    "        hidden_state2 = hidden2.cpu().detach().numpy()\n",
    "        output, hidden3 = self.gru3(self.relu(output), hidden2) # Pass output through the second LSTM layer\n",
    "        hidden_state3 = hidden3.cpu().detach().numpy()\n",
    "        output, hidden4 = self.gru4(self.relu(output), hidden3) # Pass output through the second LSTM layer\n",
    "        hidden_state4 = hidden4.cpu().detach().numpy()\n",
    "        output = self.fc(self.relu(output[:, -1, :]))\n",
    "        return output, [hidden_state0, hidden_state1, hidden_state2]"
   ]
  },
  {
   "cell_type": "code",
   "execution_count": 8,
   "metadata": {},
   "outputs": [
    {
     "data": {
      "text/plain": [
       "id                0\n",
       "form             39\n",
       "original_form     0\n",
       "speaker_id        0\n",
       "start             0\n",
       "end               0\n",
       "age               0\n",
       "sex               0\n",
       "dtype: int64"
      ]
     },
     "execution_count": 8,
     "metadata": {},
     "output_type": "execute_result"
    }
   ],
   "source": [
    "df.isnull().sum()"
   ]
  },
  {
   "cell_type": "code",
   "execution_count": 9,
   "metadata": {},
   "outputs": [],
   "source": [
    "df = df.dropna()"
   ]
  },
  {
   "cell_type": "code",
   "execution_count": 10,
   "metadata": {},
   "outputs": [
    {
     "data": {
      "text/plain": [
       "sex\n",
       "여성    149045\n",
       "남성     64109\n",
       "Name: count, dtype: int64"
      ]
     },
     "execution_count": 10,
     "metadata": {},
     "output_type": "execute_result"
    }
   ],
   "source": [
    "df['sex'].value_counts()"
   ]
  },
  {
   "cell_type": "code",
   "execution_count": 11,
   "metadata": {},
   "outputs": [],
   "source": [
    "df = df[df['sex'] == '여성']"
   ]
  },
  {
   "cell_type": "code",
   "execution_count": 12,
   "metadata": {},
   "outputs": [],
   "source": [
    "df = df.reset_index()"
   ]
  },
  {
   "cell_type": "code",
   "execution_count": 13,
   "metadata": {},
   "outputs": [
    {
     "data": {
      "text/plain": [
       "sex\n",
       "여성    149045\n",
       "Name: count, dtype: int64"
      ]
     },
     "execution_count": 13,
     "metadata": {},
     "output_type": "execute_result"
    }
   ],
   "source": [
    "df['sex'].value_counts()"
   ]
  },
  {
   "cell_type": "code",
   "execution_count": 14,
   "metadata": {},
   "outputs": [],
   "source": [
    "okt = Okt()\n",
    "df['token']=df['form'].apply(okt.morphs)"
   ]
  },
  {
   "cell_type": "code",
   "execution_count": 15,
   "metadata": {},
   "outputs": [
    {
     "data": {
      "text/html": [
       "<div>\n",
       "<style scoped>\n",
       "    .dataframe tbody tr th:only-of-type {\n",
       "        vertical-align: middle;\n",
       "    }\n",
       "\n",
       "    .dataframe tbody tr th {\n",
       "        vertical-align: top;\n",
       "    }\n",
       "\n",
       "    .dataframe thead th {\n",
       "        text-align: right;\n",
       "    }\n",
       "</style>\n",
       "<table border=\"1\" class=\"dataframe\">\n",
       "  <thead>\n",
       "    <tr style=\"text-align: right;\">\n",
       "      <th></th>\n",
       "      <th>index</th>\n",
       "      <th>id</th>\n",
       "      <th>form</th>\n",
       "      <th>original_form</th>\n",
       "      <th>speaker_id</th>\n",
       "      <th>start</th>\n",
       "      <th>end</th>\n",
       "      <th>age</th>\n",
       "      <th>sex</th>\n",
       "      <th>token</th>\n",
       "    </tr>\n",
       "  </thead>\n",
       "  <tbody>\n",
       "    <tr>\n",
       "      <th>0</th>\n",
       "      <td>0</td>\n",
       "      <td>SDRW2000000319.1.1.1</td>\n",
       "      <td>병역 특례를 받아</td>\n",
       "      <td>병역 특례를 받아</td>\n",
       "      <td>SD2001645</td>\n",
       "      <td>4.04903</td>\n",
       "      <td>5.83905</td>\n",
       "      <td>10대</td>\n",
       "      <td>여성</td>\n",
       "      <td>[병역, 특례, 를, 받아]</td>\n",
       "    </tr>\n",
       "    <tr>\n",
       "      <th>1</th>\n",
       "      <td>1</td>\n",
       "      <td>SDRW2000000319.1.1.2</td>\n",
       "      <td>법정 봉사활동 기 시간을 채워야 하는</td>\n",
       "      <td>법정 봉사활동 기 시간을 채워야 하는</td>\n",
       "      <td>SD2001645</td>\n",
       "      <td>5.84901</td>\n",
       "      <td>8.89405</td>\n",
       "      <td>10대</td>\n",
       "      <td>여성</td>\n",
       "      <td>[법정, 봉사활동, 기, 시간, 을, 채워야, 하는]</td>\n",
       "    </tr>\n",
       "    <tr>\n",
       "      <th>2</th>\n",
       "      <td>2</td>\n",
       "      <td>SDRW2000000319.1.1.3</td>\n",
       "      <td>예술</td>\n",
       "      <td>예술</td>\n",
       "      <td>SD2001645</td>\n",
       "      <td>8.90407</td>\n",
       "      <td>9.52506</td>\n",
       "      <td>10대</td>\n",
       "      <td>여성</td>\n",
       "      <td>[예술]</td>\n",
       "    </tr>\n",
       "    <tr>\n",
       "      <th>3</th>\n",
       "      <td>3</td>\n",
       "      <td>SDRW2000000319.1.1.4</td>\n",
       "      <td>또는 체육 요원의 절반가량이</td>\n",
       "      <td>또는 체육 요원의 절반가량이</td>\n",
       "      <td>SD2001645</td>\n",
       "      <td>9.53506</td>\n",
       "      <td>12.05203</td>\n",
       "      <td>10대</td>\n",
       "      <td>여성</td>\n",
       "      <td>[또는, 체육, 요원, 의, 절반, 가량, 이]</td>\n",
       "    </tr>\n",
       "    <tr>\n",
       "      <th>4</th>\n",
       "      <td>4</td>\n",
       "      <td>SDRW2000000319.1.1.5</td>\n",
       "      <td>허위 자료를 내거나</td>\n",
       "      <td>허위 자료를 내거나</td>\n",
       "      <td>SD2001645</td>\n",
       "      <td>12.06204</td>\n",
       "      <td>13.79504</td>\n",
       "      <td>10대</td>\n",
       "      <td>여성</td>\n",
       "      <td>[허위, 자료, 를, 내, 거나]</td>\n",
       "    </tr>\n",
       "    <tr>\n",
       "      <th>...</th>\n",
       "      <td>...</td>\n",
       "      <td>...</td>\n",
       "      <td>...</td>\n",
       "      <td>...</td>\n",
       "      <td>...</td>\n",
       "      <td>...</td>\n",
       "      <td>...</td>\n",
       "      <td>...</td>\n",
       "      <td>...</td>\n",
       "      <td>...</td>\n",
       "    </tr>\n",
       "    <tr>\n",
       "      <th>149040</th>\n",
       "      <td>213188</td>\n",
       "      <td>SDRW2000000418.1.1.326</td>\n",
       "      <td>우선</td>\n",
       "      <td>우선</td>\n",
       "      <td>SD2000552</td>\n",
       "      <td>908.12707</td>\n",
       "      <td>909.98106</td>\n",
       "      <td>10대</td>\n",
       "      <td>여성</td>\n",
       "      <td>[우선]</td>\n",
       "    </tr>\n",
       "    <tr>\n",
       "      <th>149041</th>\n",
       "      <td>213189</td>\n",
       "      <td>SDRW2000000418.1.1.327</td>\n",
       "      <td>맛있는 음식들 먹으면서</td>\n",
       "      <td>맛있는 음식들 먹으면서</td>\n",
       "      <td>SD2000552</td>\n",
       "      <td>909.99104</td>\n",
       "      <td>912.25405</td>\n",
       "      <td>10대</td>\n",
       "      <td>여성</td>\n",
       "      <td>[맛있는, 음식, 들, 먹으면서]</td>\n",
       "    </tr>\n",
       "    <tr>\n",
       "      <th>149042</th>\n",
       "      <td>213190</td>\n",
       "      <td>SDRW2000000418.1.1.328</td>\n",
       "      <td>겝</td>\n",
       "      <td>겝</td>\n",
       "      <td>SD2000552</td>\n",
       "      <td>912.26403</td>\n",
       "      <td>913.64807</td>\n",
       "      <td>10대</td>\n",
       "      <td>여성</td>\n",
       "      <td>[겝]</td>\n",
       "    </tr>\n",
       "    <tr>\n",
       "      <th>149043</th>\n",
       "      <td>213191</td>\n",
       "      <td>SDRW2000000418.1.1.329</td>\n",
       "      <td>먹으면서 저도 같이 맛있어 보이는 느낌이라서</td>\n",
       "      <td>먹으면서 저도 같이 맛있어 보이는 느낌이라서</td>\n",
       "      <td>SD2000552</td>\n",
       "      <td>913.65802</td>\n",
       "      <td>917.87305</td>\n",
       "      <td>10대</td>\n",
       "      <td>여성</td>\n",
       "      <td>[먹으면서, 저, 도, 같이, 맛있어, 보이는, 느낌, 이라서]</td>\n",
       "    </tr>\n",
       "    <tr>\n",
       "      <th>149044</th>\n",
       "      <td>213192</td>\n",
       "      <td>SDRW2000000418.1.1.330</td>\n",
       "      <td>더 좋은 거 같아요.</td>\n",
       "      <td>더 좋은 거 같아요.</td>\n",
       "      <td>SD2000552</td>\n",
       "      <td>917.88301</td>\n",
       "      <td>919.84207</td>\n",
       "      <td>10대</td>\n",
       "      <td>여성</td>\n",
       "      <td>[더, 좋은, 거, 같아요, .]</td>\n",
       "    </tr>\n",
       "  </tbody>\n",
       "</table>\n",
       "<p>149045 rows × 10 columns</p>\n",
       "</div>"
      ],
      "text/plain": [
       "         index                      id                      form   \n",
       "0            0    SDRW2000000319.1.1.1                 병역 특례를 받아  \\\n",
       "1            1    SDRW2000000319.1.1.2      법정 봉사활동 기 시간을 채워야 하는   \n",
       "2            2    SDRW2000000319.1.1.3                        예술   \n",
       "3            3    SDRW2000000319.1.1.4           또는 체육 요원의 절반가량이   \n",
       "4            4    SDRW2000000319.1.1.5                허위 자료를 내거나   \n",
       "...        ...                     ...                       ...   \n",
       "149040  213188  SDRW2000000418.1.1.326                        우선   \n",
       "149041  213189  SDRW2000000418.1.1.327              맛있는 음식들 먹으면서   \n",
       "149042  213190  SDRW2000000418.1.1.328                         겝   \n",
       "149043  213191  SDRW2000000418.1.1.329  먹으면서 저도 같이 맛있어 보이는 느낌이라서   \n",
       "149044  213192  SDRW2000000418.1.1.330               더 좋은 거 같아요.   \n",
       "\n",
       "                   original_form speaker_id      start        end  age sex   \n",
       "0                      병역 특례를 받아  SD2001645    4.04903    5.83905  10대  여성  \\\n",
       "1           법정 봉사활동 기 시간을 채워야 하는  SD2001645    5.84901    8.89405  10대  여성   \n",
       "2                             예술  SD2001645    8.90407    9.52506  10대  여성   \n",
       "3                또는 체육 요원의 절반가량이  SD2001645    9.53506   12.05203  10대  여성   \n",
       "4                     허위 자료를 내거나  SD2001645   12.06204   13.79504  10대  여성   \n",
       "...                          ...        ...        ...        ...  ...  ..   \n",
       "149040                        우선  SD2000552  908.12707  909.98106  10대  여성   \n",
       "149041              맛있는 음식들 먹으면서  SD2000552  909.99104  912.25405  10대  여성   \n",
       "149042                         겝  SD2000552  912.26403  913.64807  10대  여성   \n",
       "149043  먹으면서 저도 같이 맛있어 보이는 느낌이라서  SD2000552  913.65802  917.87305  10대  여성   \n",
       "149044               더 좋은 거 같아요.  SD2000552  917.88301  919.84207  10대  여성   \n",
       "\n",
       "                                      token  \n",
       "0                           [병역, 특례, 를, 받아]  \n",
       "1             [법정, 봉사활동, 기, 시간, 을, 채워야, 하는]  \n",
       "2                                      [예술]  \n",
       "3                [또는, 체육, 요원, 의, 절반, 가량, 이]  \n",
       "4                        [허위, 자료, 를, 내, 거나]  \n",
       "...                                     ...  \n",
       "149040                                 [우선]  \n",
       "149041                   [맛있는, 음식, 들, 먹으면서]  \n",
       "149042                                  [겝]  \n",
       "149043  [먹으면서, 저, 도, 같이, 맛있어, 보이는, 느낌, 이라서]  \n",
       "149044                   [더, 좋은, 거, 같아요, .]  \n",
       "\n",
       "[149045 rows x 10 columns]"
      ]
     },
     "execution_count": 15,
     "metadata": {},
     "output_type": "execute_result"
    }
   ],
   "source": [
    "df"
   ]
  },
  {
   "cell_type": "code",
   "execution_count": 16,
   "metadata": {},
   "outputs": [],
   "source": [
    "bin_list = []\n",
    "for i in range(len(df)):\n",
    "    bin_list.append(df[\"token\"][i])\n",
    "bin_list = sum(bin_list,[])"
   ]
  },
  {
   "cell_type": "code",
   "execution_count": 17,
   "metadata": {},
   "outputs": [],
   "source": [
    "bin_list2 = []\n",
    "for i in range(len(bin_list)):\n",
    "    temp = bin_list[i]\n",
    "    if temp not in bin_list2:\n",
    "        bin_list2.append(temp)"
   ]
  },
  {
   "cell_type": "code",
   "execution_count": 18,
   "metadata": {},
   "outputs": [],
   "source": [
    "lookup = {tkn: i+2 for i, tkn in enumerate(bin_list2)}\n",
    "lookup[\"unk\"] = 0\n",
    "lookup[\"pad\"] = 1"
   ]
  },
  {
   "cell_type": "code",
   "execution_count": 19,
   "metadata": {},
   "outputs": [],
   "source": [
    "#lookup"
   ]
  },
  {
   "cell_type": "code",
   "execution_count": 20,
   "metadata": {},
   "outputs": [],
   "source": [
    "class CustomDataset(Dataset):\n",
    "    def __init__(self, dataframe, wav_dir, bin_list):\n",
    "        self.data = dataframe\n",
    "        self.wav_dir = wav_dir\n",
    "\n",
    "    def __len__(self):\n",
    "        return len(self.data)\n",
    "\n",
    "    def __getitem__(self, index):\n",
    "        file_id = self.data.iloc[index]['id']\n",
    "        wav_path = os.path.join(self.wav_dir, f'{file_id}.wav')\n",
    "        audio, _ = torchaudio.load(wav_path)\n",
    "        text = self.data.iloc[index]['token']\n",
    "        \n",
    "        token_indices = [lookup[t] for t in text]\n",
    "        desired_length = 100\n",
    "        \n",
    "        token_indices += [1] * (desired_length - len(token_indices))\n",
    "        token_indices = torch.tensor(token_indices).type(torch.float32)\n",
    "\n",
    "        return audio, token_indices"
   ]
  },
  {
   "cell_type": "code",
   "execution_count": 21,
   "metadata": {},
   "outputs": [],
   "source": [
    "num_epochs = 256\n",
    "batch_size = 100\n",
    "learning_rate = 2e-03\n",
    "num_classes = len(df)  \n",
    "device = torch.device(\"cuda\" if torch.cuda.is_available() else \"cpu\")"
   ]
  },
  {
   "cell_type": "code",
   "execution_count": 22,
   "metadata": {},
   "outputs": [],
   "source": [
    "wav_dir = './wav_all_stereo(fixed_length)'\n",
    "dataset = CustomDataset(df[:1000], wav_dir, bin_list2)\n",
    "dataloader = DataLoader(dataset, batch_size=batch_size, shuffle=True)"
   ]
  },
  {
   "cell_type": "code",
   "execution_count": 23,
   "metadata": {},
   "outputs": [
    {
     "name": "stdout",
     "output_type": "stream",
     "text": [
      "Audio: torch.Size([2, 221616])\n",
      "Text: torch.Size([100])\n"
     ]
    }
   ],
   "source": [
    "audio, text = dataset[0]\n",
    "print(\"Audio:\", audio.shape)\n",
    "print(\"Text:\", text.shape)"
   ]
  },
  {
   "cell_type": "code",
   "execution_count": 24,
   "metadata": {},
   "outputs": [],
   "source": [
    "input_size = 221616\n",
    "hidden_size = 100\n",
    "output_size = 100"
   ]
  },
  {
   "cell_type": "code",
   "execution_count": 25,
   "metadata": {},
   "outputs": [],
   "source": [
    "model = GRUModel(input_size, hidden_size, output_size).to(device)\n",
    "# criterion = nn.CTCLoss(blank=0, reduction='mean', zero_infinity=False)\n",
    "criterion = nn.MSELoss(reduction=\"mean\")\n",
    "optimizer = optim.AdamW(model.parameters(), lr=learning_rate)\n",
    "scheduler = optim.lr_scheduler.LambdaLR(optimizer=optimizer,\n",
    "                                        lr_lambda=lambda epoch: 0.95 ** epoch,\n",
    "                                        last_epoch=-1,\n",
    "                                        verbose=False)\n",
    "total_step = len(dataloader)"
   ]
  },
  {
   "cell_type": "code",
   "execution_count": null,
   "metadata": {},
   "outputs": [],
   "source": [
    "reverse = dict(map(reversed,lookup.items()))"
   ]
  },
  {
   "cell_type": "code",
   "execution_count": 35,
   "metadata": {},
   "outputs": [],
   "source": [
    "# def layer_visualization(hidden_states, text):\n",
    "#     plt.figure(figsize=(7 * len(hidden_states), 4)) # Adjust the figure size\n",
    "#     plt.subplots_adjust(wspace=0.2, hspace=0.5)\n",
    "#     for layer_idx, hidden_state in enumerate(hidden_states):\n",
    "#         plt.subplot(1, len(hidden_states), layer_idx + 1) # Create a subplot for each layer\n",
    "#         plt.title(f'Hidden state values in layer {layer_idx + 1}')\n",
    "#         sns.heatmap(hidden_state[0,:20])\n",
    "#         print([reverse[int(i)] for i in text[:10,:20]])\n",
    "# #         plt.xlabel([reverse[int(i)] for i in text[0,:20]])\n",
    "# #         plt.imshow(hidden_state[0], aspect='auto', cmap='hot')\n",
    "#         plt.axis(\"off\")\n",
    "# #         plt.colorbar()\n",
    "#     plt.show() # Call `plt.show()` once after creating all subplots"
   ]
  },
  {
   "cell_type": "code",
   "execution_count": 26,
   "metadata": {},
   "outputs": [],
   "source": [
    "from matplotlib.colors import LinearSegmentedColormap\n",
    "import seaborn as sns\n",
    "import matplotlib.pyplot as plt\n",
    "\n",
    "colors = ['#85c2e1', '#89c4e2', '#95cae5', '#99cce6', '#a1d0e8',\n",
    "        '#b2d9ec', '#baddee', '#c2e1f0', '#eff7fb', '#f9e8e8',\n",
    "        '#f9e8e8', '#f9d4d4', '#f9bdbd', '#f8a8a8', '#f68f8f',\n",
    "        '#f47676', '#f45f5f', '#f34343', '#f33b3b', '#f42e2e']\n",
    "\n",
    "cmap = LinearSegmentedColormap.from_list('Custom', colors, len(colors))\n",
    "\n",
    "def layer_visualization(hidden_states, text):\n",
    "    plt.figure(figsize=(7 * len(hidden_states), 4)) # Adjust the figure size\n",
    "    plt.subplots_adjust(wspace=0.2, hspace=0.5)\n",
    "    for layer_idx, hidden_state in enumerate(hidden_states):\n",
    "        plt.subplot(1, len(hidden_states), layer_idx + 1) # Create a subplot for each layer\n",
    "        plt.title(f'Hidden state values in layer {layer_idx + 1}')\n",
    "        sns.heatmap(hidden_state[0,:20], cmap=cmap)\n",
    "        print([reverse[int(i)] for i in text[:10,:20]])\n",
    "        plt.axis(\"off\")\n",
    "    plt.show() # Call `plt.show()` once after creating all subplots"
   ]
  },
  {
   "cell_type": "code",
   "execution_count": 27,
   "metadata": {},
   "outputs": [],
   "source": [
    "import matplotlib.pyplot as plt\n",
    "import seaborn as sns"
   ]
  },
  {
   "cell_type": "code",
   "execution_count": 30,
   "metadata": {
    "scrolled": true
   },
   "outputs": [
    {
     "ename": "OutOfMemoryError",
     "evalue": "CUDA out of memory. Tried to allocate 434.00 MiB (GPU 0; 19.70 GiB total capacity; 773.85 MiB already allocated; 51.00 MiB free; 1.09 GiB reserved in total by PyTorch) If reserved memory is >> allocated memory try setting max_split_size_mb to avoid fragmentation.  See documentation for Memory Management and PYTORCH_CUDA_ALLOC_CONF",
     "output_type": "error",
     "traceback": [
      "\u001b[0;31m---------------------------------------------------------------------------\u001b[0m",
      "\u001b[0;31mOutOfMemoryError\u001b[0m                          Traceback (most recent call last)",
      "Cell \u001b[0;32mIn[30], line 15\u001b[0m\n\u001b[1;32m     12\u001b[0m         audio \u001b[38;5;241m=\u001b[39m audio\u001b[38;5;241m.\u001b[39mto(device)\n\u001b[1;32m     13\u001b[0m         text \u001b[38;5;241m=\u001b[39m text\u001b[38;5;241m.\u001b[39mto(device)\n\u001b[0;32m---> 15\u001b[0m         outputs,hidden_states \u001b[38;5;241m=\u001b[39m \u001b[43mmodel\u001b[49m\u001b[43m(\u001b[49m\u001b[43maudio\u001b[49m\u001b[43m)\u001b[49m\n\u001b[1;32m     16\u001b[0m \u001b[38;5;66;03m#         print(outputs.dtype)\u001b[39;00m\n\u001b[1;32m     17\u001b[0m \u001b[38;5;66;03m#         print(text.dtype)\u001b[39;00m\n\u001b[1;32m     18\u001b[0m \u001b[38;5;66;03m#         input_lengths = torch.full(size=(batch_size,), fill_value=100, dtype=torch.long)\u001b[39;00m\n\u001b[0;32m   (...)\u001b[0m\n\u001b[1;32m     22\u001b[0m \u001b[38;5;66;03m#                          input_lengths, \u001b[39;00m\n\u001b[1;32m     23\u001b[0m \u001b[38;5;66;03m#                          output_lengths)\u001b[39;00m\n\u001b[1;32m     24\u001b[0m         loss \u001b[38;5;241m=\u001b[39m criterion(outputs, text)\n",
      "File \u001b[0;32m~/.conda/envs/virtual/lib/python3.8/site-packages/torch/nn/modules/module.py:1501\u001b[0m, in \u001b[0;36mModule._call_impl\u001b[0;34m(self, *args, **kwargs)\u001b[0m\n\u001b[1;32m   1496\u001b[0m \u001b[38;5;66;03m# If we don't have any hooks, we want to skip the rest of the logic in\u001b[39;00m\n\u001b[1;32m   1497\u001b[0m \u001b[38;5;66;03m# this function, and just call forward.\u001b[39;00m\n\u001b[1;32m   1498\u001b[0m \u001b[38;5;28;01mif\u001b[39;00m \u001b[38;5;129;01mnot\u001b[39;00m (\u001b[38;5;28mself\u001b[39m\u001b[38;5;241m.\u001b[39m_backward_hooks \u001b[38;5;129;01mor\u001b[39;00m \u001b[38;5;28mself\u001b[39m\u001b[38;5;241m.\u001b[39m_backward_pre_hooks \u001b[38;5;129;01mor\u001b[39;00m \u001b[38;5;28mself\u001b[39m\u001b[38;5;241m.\u001b[39m_forward_hooks \u001b[38;5;129;01mor\u001b[39;00m \u001b[38;5;28mself\u001b[39m\u001b[38;5;241m.\u001b[39m_forward_pre_hooks\n\u001b[1;32m   1499\u001b[0m         \u001b[38;5;129;01mor\u001b[39;00m _global_backward_pre_hooks \u001b[38;5;129;01mor\u001b[39;00m _global_backward_hooks\n\u001b[1;32m   1500\u001b[0m         \u001b[38;5;129;01mor\u001b[39;00m _global_forward_hooks \u001b[38;5;129;01mor\u001b[39;00m _global_forward_pre_hooks):\n\u001b[0;32m-> 1501\u001b[0m     \u001b[38;5;28;01mreturn\u001b[39;00m \u001b[43mforward_call\u001b[49m\u001b[43m(\u001b[49m\u001b[38;5;241;43m*\u001b[39;49m\u001b[43margs\u001b[49m\u001b[43m,\u001b[49m\u001b[43m \u001b[49m\u001b[38;5;241;43m*\u001b[39;49m\u001b[38;5;241;43m*\u001b[39;49m\u001b[43mkwargs\u001b[49m\u001b[43m)\u001b[49m\n\u001b[1;32m   1502\u001b[0m \u001b[38;5;66;03m# Do not call functions when jit is used\u001b[39;00m\n\u001b[1;32m   1503\u001b[0m full_backward_hooks, non_full_backward_hooks \u001b[38;5;241m=\u001b[39m [], []\n",
      "Cell \u001b[0;32mIn[7], line 18\u001b[0m, in \u001b[0;36mGRUModel.forward\u001b[0;34m(self, x)\u001b[0m\n\u001b[1;32m     16\u001b[0m \u001b[38;5;66;03m#c0 = torch.randn(1, x.size(0), self.hidden_size).to(x.device)\u001b[39;00m\n\u001b[1;32m     17\u001b[0m hidden_state0 \u001b[38;5;241m=\u001b[39m h0\u001b[38;5;241m.\u001b[39mcpu()\u001b[38;5;241m.\u001b[39mdetach()\u001b[38;5;241m.\u001b[39mnumpy()\n\u001b[0;32m---> 18\u001b[0m output, hidden1 \u001b[38;5;241m=\u001b[39m \u001b[38;5;28;43mself\u001b[39;49m\u001b[38;5;241;43m.\u001b[39;49m\u001b[43mgru1\u001b[49m\u001b[43m(\u001b[49m\u001b[43mx\u001b[49m\u001b[43m,\u001b[49m\u001b[43m \u001b[49m\u001b[43m(\u001b[49m\u001b[43mh0\u001b[49m\u001b[43m)\u001b[49m\u001b[43m)\u001b[49m\n\u001b[1;32m     19\u001b[0m hidden_state1 \u001b[38;5;241m=\u001b[39m hidden1\u001b[38;5;241m.\u001b[39mcpu()\u001b[38;5;241m.\u001b[39mdetach()\u001b[38;5;241m.\u001b[39mnumpy()\n\u001b[1;32m     20\u001b[0m output, hidden2 \u001b[38;5;241m=\u001b[39m \u001b[38;5;28mself\u001b[39m\u001b[38;5;241m.\u001b[39mgru2(\u001b[38;5;28mself\u001b[39m\u001b[38;5;241m.\u001b[39mrelu(output), hidden1) \u001b[38;5;66;03m# Pass output through the second LSTM layer\u001b[39;00m\n",
      "File \u001b[0;32m~/.conda/envs/virtual/lib/python3.8/site-packages/torch/nn/modules/module.py:1501\u001b[0m, in \u001b[0;36mModule._call_impl\u001b[0;34m(self, *args, **kwargs)\u001b[0m\n\u001b[1;32m   1496\u001b[0m \u001b[38;5;66;03m# If we don't have any hooks, we want to skip the rest of the logic in\u001b[39;00m\n\u001b[1;32m   1497\u001b[0m \u001b[38;5;66;03m# this function, and just call forward.\u001b[39;00m\n\u001b[1;32m   1498\u001b[0m \u001b[38;5;28;01mif\u001b[39;00m \u001b[38;5;129;01mnot\u001b[39;00m (\u001b[38;5;28mself\u001b[39m\u001b[38;5;241m.\u001b[39m_backward_hooks \u001b[38;5;129;01mor\u001b[39;00m \u001b[38;5;28mself\u001b[39m\u001b[38;5;241m.\u001b[39m_backward_pre_hooks \u001b[38;5;129;01mor\u001b[39;00m \u001b[38;5;28mself\u001b[39m\u001b[38;5;241m.\u001b[39m_forward_hooks \u001b[38;5;129;01mor\u001b[39;00m \u001b[38;5;28mself\u001b[39m\u001b[38;5;241m.\u001b[39m_forward_pre_hooks\n\u001b[1;32m   1499\u001b[0m         \u001b[38;5;129;01mor\u001b[39;00m _global_backward_pre_hooks \u001b[38;5;129;01mor\u001b[39;00m _global_backward_hooks\n\u001b[1;32m   1500\u001b[0m         \u001b[38;5;129;01mor\u001b[39;00m _global_forward_hooks \u001b[38;5;129;01mor\u001b[39;00m _global_forward_pre_hooks):\n\u001b[0;32m-> 1501\u001b[0m     \u001b[38;5;28;01mreturn\u001b[39;00m \u001b[43mforward_call\u001b[49m\u001b[43m(\u001b[49m\u001b[38;5;241;43m*\u001b[39;49m\u001b[43margs\u001b[49m\u001b[43m,\u001b[49m\u001b[43m \u001b[49m\u001b[38;5;241;43m*\u001b[39;49m\u001b[38;5;241;43m*\u001b[39;49m\u001b[43mkwargs\u001b[49m\u001b[43m)\u001b[49m\n\u001b[1;32m   1502\u001b[0m \u001b[38;5;66;03m# Do not call functions when jit is used\u001b[39;00m\n\u001b[1;32m   1503\u001b[0m full_backward_hooks, non_full_backward_hooks \u001b[38;5;241m=\u001b[39m [], []\n",
      "File \u001b[0;32m~/.conda/envs/virtual/lib/python3.8/site-packages/torch/nn/modules/rnn.py:998\u001b[0m, in \u001b[0;36mGRU.forward\u001b[0;34m(self, input, hx)\u001b[0m\n\u001b[1;32m    996\u001b[0m \u001b[38;5;28mself\u001b[39m\u001b[38;5;241m.\u001b[39mcheck_forward_args(\u001b[38;5;28minput\u001b[39m, hx, batch_sizes)\n\u001b[1;32m    997\u001b[0m \u001b[38;5;28;01mif\u001b[39;00m batch_sizes \u001b[38;5;129;01mis\u001b[39;00m \u001b[38;5;28;01mNone\u001b[39;00m:\n\u001b[0;32m--> 998\u001b[0m     result \u001b[38;5;241m=\u001b[39m \u001b[43m_VF\u001b[49m\u001b[38;5;241;43m.\u001b[39;49m\u001b[43mgru\u001b[49m\u001b[43m(\u001b[49m\u001b[38;5;28;43minput\u001b[39;49m\u001b[43m,\u001b[49m\u001b[43m \u001b[49m\u001b[43mhx\u001b[49m\u001b[43m,\u001b[49m\u001b[43m \u001b[49m\u001b[38;5;28;43mself\u001b[39;49m\u001b[38;5;241;43m.\u001b[39;49m\u001b[43m_flat_weights\u001b[49m\u001b[43m,\u001b[49m\u001b[43m \u001b[49m\u001b[38;5;28;43mself\u001b[39;49m\u001b[38;5;241;43m.\u001b[39;49m\u001b[43mbias\u001b[49m\u001b[43m,\u001b[49m\u001b[43m \u001b[49m\u001b[38;5;28;43mself\u001b[39;49m\u001b[38;5;241;43m.\u001b[39;49m\u001b[43mnum_layers\u001b[49m\u001b[43m,\u001b[49m\n\u001b[1;32m    999\u001b[0m \u001b[43m                     \u001b[49m\u001b[38;5;28;43mself\u001b[39;49m\u001b[38;5;241;43m.\u001b[39;49m\u001b[43mdropout\u001b[49m\u001b[43m,\u001b[49m\u001b[43m \u001b[49m\u001b[38;5;28;43mself\u001b[39;49m\u001b[38;5;241;43m.\u001b[39;49m\u001b[43mtraining\u001b[49m\u001b[43m,\u001b[49m\u001b[43m \u001b[49m\u001b[38;5;28;43mself\u001b[39;49m\u001b[38;5;241;43m.\u001b[39;49m\u001b[43mbidirectional\u001b[49m\u001b[43m,\u001b[49m\u001b[43m \u001b[49m\u001b[38;5;28;43mself\u001b[39;49m\u001b[38;5;241;43m.\u001b[39;49m\u001b[43mbatch_first\u001b[49m\u001b[43m)\u001b[49m\n\u001b[1;32m   1000\u001b[0m \u001b[38;5;28;01melse\u001b[39;00m:\n\u001b[1;32m   1001\u001b[0m     result \u001b[38;5;241m=\u001b[39m _VF\u001b[38;5;241m.\u001b[39mgru(\u001b[38;5;28minput\u001b[39m, batch_sizes, hx, \u001b[38;5;28mself\u001b[39m\u001b[38;5;241m.\u001b[39m_flat_weights, \u001b[38;5;28mself\u001b[39m\u001b[38;5;241m.\u001b[39mbias,\n\u001b[1;32m   1002\u001b[0m                      \u001b[38;5;28mself\u001b[39m\u001b[38;5;241m.\u001b[39mnum_layers, \u001b[38;5;28mself\u001b[39m\u001b[38;5;241m.\u001b[39mdropout, \u001b[38;5;28mself\u001b[39m\u001b[38;5;241m.\u001b[39mtraining, \u001b[38;5;28mself\u001b[39m\u001b[38;5;241m.\u001b[39mbidirectional)\n",
      "\u001b[0;31mOutOfMemoryError\u001b[0m: CUDA out of memory. Tried to allocate 434.00 MiB (GPU 0; 19.70 GiB total capacity; 773.85 MiB already allocated; 51.00 MiB free; 1.09 GiB reserved in total by PyTorch) If reserved memory is >> allocated memory try setting max_split_size_mb to avoid fragmentation.  See documentation for Memory Management and PYTORCH_CUDA_ALLOC_CONF"
     ]
    }
   ],
   "source": [
    "from time import time\n",
    "timelist = []\n",
    "model.train()\n",
    "for epoch in range(num_epochs):\n",
    "    total_loss = 0.0\n",
    "    total_correct = 0\n",
    "    start = time()\n",
    "    if (epoch + 1) % 2 == 0:\n",
    "        torch.save(model, \"./model/Speech2Text-sophia.pt\")\n",
    "\n",
    "    for i, (audio, text) in enumerate(dataloader):\n",
    "        audio = audio.to(device)\n",
    "        text = text.to(device)\n",
    "\n",
    "        outputs,hidden_states = model(audio)\n",
    "#         print(outputs.dtype)\n",
    "#         print(text.dtype)\n",
    "#         input_lengths = torch.full(size=(batch_size,), fill_value=100, dtype=torch.long)\n",
    "#         output_lengths = torch.full(size=(batch_size,), fill_value=100, dtype=torch.long)\n",
    "#         loss = criterion(outputs, \n",
    "#                          text, \n",
    "#                          input_lengths, \n",
    "#                          output_lengths)\n",
    "        loss = criterion(outputs, text)\n",
    "        optimizer.zero_grad()\n",
    "        loss.backward()\n",
    "        optimizer.step()\n",
    "\n",
    "        total_loss += loss.item()\n",
    "        _, predicted = torch.max(outputs, 1)\n",
    "        text = text.view(-1, 1)\n",
    "        total_correct += (predicted == text).sum().item()\n",
    "\n",
    "#         if (i + 1) % 10 == 0:\n",
    "#             print(f'Epoch [{epoch+1}/{num_epochs}], Step [{i+1}/{total_step}], Loss: {loss.item():.4f}')\n",
    "    scheduler.step()\n",
    "    epoch_loss = total_loss / (batch_size * total_step)\n",
    "    epoch_acc = total_correct / (batch_size * total_step)\n",
    "    end = time()\n",
    "    timelist.append(end-start)\n",
    "    print(f'Epoch [{epoch+1}/{num_epochs}], Loss: {epoch_loss:.4f}, Accuracy: {epoch_acc:.4f}, Time Duration : {end - start:.4f}:')\n",
    "    layer_visualization(hidden_states, text)"
   ]
  },
  {
   "cell_type": "code",
   "execution_count": 32,
   "metadata": {},
   "outputs": [
    {
     "data": {
      "text/plain": [
       "Text(0, 0.5, 'time')"
      ]
     },
     "execution_count": 32,
     "metadata": {},
     "output_type": "execute_result"
    },
    {
     "data": {
      "image/png": "[encoded data removed]",
      "text/plain": [
       "<Figure size 1500x700 with 1 Axes>"
      ]
     },
     "metadata": {},
     "output_type": "display_data"
    }
   ],
   "source": [
    "import matplotlib.pyplot as plt\n",
    "\n",
    "plt.figure(figsize=(15,7))\n",
    "plt.plot(timelist)\n",
    "plt.title(\"AdamW_inference_time\")\n",
    "plt.xlabel(\"epoch\")\n",
    "plt.ylabel(\"time\")\n",
    "plt.show()"
   ]
  },
  {
   "cell_type": "code",
   "execution_count": null,
   "metadata": {},
   "outputs": [],
   "source": []
  },
  {
   "cell_type": "code",
   "execution_count": null,
   "metadata": {},
   "outputs": [],
   "source": [
    "def predict(model, input_file):\n",
    "    model.eval()  # 모델을 평가 모드로 설정\n",
    "    \n",
    "    audio, _ = torchaudio.load(input_file)  \n",
    "    audio = audio.unsqueeze(0).to(device) \n",
    "\n",
    "    output = model(audio) \n",
    "\n",
    "    return output.int().detach()"
   ]
  },
  {
   "cell_type": "code",
   "execution_count": null,
   "metadata": {},
   "outputs": [],
   "source": [
    "output = predict(model,'./wav_all_stereo(fixed_length)/SDRW2000000414.1.1.18.wav')"
   ]
  },
  {
   "cell_type": "code",
   "execution_count": null,
   "metadata": {},
   "outputs": [],
   "source": [
    "output[0,1]"
   ]
  },
  {
   "cell_type": "code",
   "execution_count": 33,
   "metadata": {},
   "outputs": [],
   "source": [
    "reverse = dict(map(reversed,lookup.items()))"
   ]
  },
  {
   "cell_type": "code",
   "execution_count": null,
   "metadata": {},
   "outputs": [],
   "source": [
    "out = []\n",
    "for i in range(len(output[0])):\n",
    "    out.append(reverse[output[0,i].item()])\n",
    "out"
   ]
  },
  {
   "cell_type": "code",
   "execution_count": null,
   "metadata": {},
   "outputs": [],
   "source": []
  }
 ],
 "metadata": {
  "kernelspec": {
   "display_name": "Python 3 (ipykernel)",
   "language": "python",
   "name": "python3"
  },
  "language_info": {
   "codemirror_mode": {
    "name": "ipython",
    "version": 3
   },
   "file_extension": ".py",
   "mimetype": "text/x-python",
   "name": "python",
   "nbconvert_exporter": "python",
   "pygments_lexer": "ipython3",
   "version": "3.8.16"
  }
 },
 "nbformat": 4,
 "nbformat_minor": 2
}
