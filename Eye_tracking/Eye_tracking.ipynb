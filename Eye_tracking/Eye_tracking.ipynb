{
 "cells": [
  {
   "cell_type": "code",
   "execution_count": 3,
   "metadata": {
    "executionInfo": {
     "elapsed": 2,
     "status": "ok",
     "timestamp": 1682831825077,
     "user": {
      "displayName": "‍정영진[재학 / 바이오메디컬공학전공]",
      "userId": "05820612260606642415"
     },
     "user_tz": -540
    },
    "id": "xONnfyVkRsPE"
   },
   "outputs": [],
   "source": [
    "import cv2\n",
    "import numpy as np\n",
    "import matplotlib.pyplot as plt"
   ]
  },
  {
   "cell_type": "code",
   "execution_count": 4,
   "metadata": {
    "colab": {
     "base_uri": "https://localhost:8080/",
     "height": 853
    },
    "executionInfo": {
     "elapsed": 1289,
     "status": "ok",
     "timestamp": 1682831826751,
     "user": {
      "displayName": "‍정영진[재학 / 바이오메디컬공학전공]",
      "userId": "05820612260606642415"
     },
     "user_tz": -540
    },
    "id": "IJP7rc7ER2vS",
    "outputId": "67ffdd66-a64d-40aa-9be3-47972eacdc3d"
   },
   "outputs": [
    {
     "name": "stderr",
     "output_type": "stream",
     "text": [
      "[ WARN:0@0.510] global loadsave.cpp:244 findDecoder imread_('/content/drive/Shareddrives/BME_AI/eye_tracking/pic.jpg'): can't open/read file: check file path/integrity\n"
     ]
    },
    {
     "ename": "error",
     "evalue": "OpenCV(4.7.0) /io/opencv/modules/imgproc/src/color.cpp:182: error: (-215:Assertion failed) !_src.empty() in function 'cvtColor'\n",
     "output_type": "error",
     "traceback": [
      "\u001b[0;31m---------------------------------------------------------------------------\u001b[0m",
      "\u001b[0;31merror\u001b[0m                                     Traceback (most recent call last)",
      "Cell \u001b[0;32mIn[4], line 5\u001b[0m\n\u001b[1;32m      2\u001b[0m eye_cascade \u001b[38;5;241m=\u001b[39m cv2\u001b[38;5;241m.\u001b[39mCascadeClassifier(cv2\u001b[38;5;241m.\u001b[39mdata\u001b[38;5;241m.\u001b[39mhaarcascades \u001b[38;5;241m+\u001b[39m \u001b[38;5;124m'\u001b[39m\u001b[38;5;124mhaarcascade_eye.xml\u001b[39m\u001b[38;5;124m'\u001b[39m)\n\u001b[1;32m      4\u001b[0m img \u001b[38;5;241m=\u001b[39m cv2\u001b[38;5;241m.\u001b[39mimread(\u001b[38;5;124m\"\u001b[39m\u001b[38;5;124m/content/drive/Shareddrives/BME_AI/eye_tracking/pic.jpg\u001b[39m\u001b[38;5;124m\"\u001b[39m)\n\u001b[0;32m----> 5\u001b[0m gray_picture \u001b[38;5;241m=\u001b[39m \u001b[43mcv2\u001b[49m\u001b[38;5;241;43m.\u001b[39;49m\u001b[43mcvtColor\u001b[49m\u001b[43m(\u001b[49m\u001b[43mimg\u001b[49m\u001b[43m,\u001b[49m\u001b[43m \u001b[49m\u001b[43mcv2\u001b[49m\u001b[38;5;241;43m.\u001b[39;49m\u001b[43mCOLOR_RGB2GRAY\u001b[49m\u001b[43m)\u001b[49m\u001b[38;5;66;03m#make picture gray\u001b[39;00m\n\u001b[1;32m      6\u001b[0m faces \u001b[38;5;241m=\u001b[39m face_cascade\u001b[38;5;241m.\u001b[39mdetectMultiScale(gray_picture, scaleFactor\u001b[38;5;241m=\u001b[39m\u001b[38;5;241m1.3\u001b[39m, minNeighbors\u001b[38;5;241m=\u001b[39m\u001b[38;5;241m5\u001b[39m)\n\u001b[1;32m      8\u001b[0m \u001b[38;5;28;01mfor\u001b[39;00m (x,y,w,h) \u001b[38;5;129;01min\u001b[39;00m faces:\n",
      "\u001b[0;31merror\u001b[0m: OpenCV(4.7.0) /io/opencv/modules/imgproc/src/color.cpp:182: error: (-215:Assertion failed) !_src.empty() in function 'cvtColor'\n"
     ]
    }
   ],
   "source": [
    "face_cascade = cv2.CascadeClassifier(cv2.data.haarcascades + 'haarcascade_frontalface_default.xml')\n",
    "eye_cascade = cv2.CascadeClassifier(cv2.data.haarcascades + 'haarcascade_eye.xml')\n",
    "\n",
    "img = cv2.imread(\"/content/drive/Shareddrives/BME_AI/eye_tracking/pic.jpg\")\n",
    "gray_picture = cv2.cvtColor(img, cv2.COLOR_RGB2GRAY)#make picture gray\n",
    "faces = face_cascade.detectMultiScale(gray_picture, scaleFactor=1.3, minNeighbors=5)\n",
    "\n",
    "for (x,y,w,h) in faces:\n",
    "    cv2.rectangle(img,(x,y),(x+w,y+h),(255,255,0),2)\n",
    "plt.imshow(img, cmap='gray')\n",
    "plt.show()\n",
    "\n",
    "\n",
    "gray_face = gray_picture[y:y+h, x:x+w] # cut the gray face frame out\n",
    "face = img[y:y+h, x:x+w] # cut the face frame out\n",
    "eyes = eye_cascade.detectMultiScale(gray_face)\n",
    "\n",
    "for (ex,ey,ew,eh) in eyes: \n",
    "    cv2.rectangle(face,(ex,ey),(ex+ew,ey+eh),(0,225,255),2)\n",
    "plt.imshow(img, cmap='gray')\n",
    "plt.show()"
   ]
  },
  {
   "cell_type": "code",
   "execution_count": 5,
   "metadata": {
    "executionInfo": {
     "elapsed": 3,
     "status": "ok",
     "timestamp": 1682831827231,
     "user": {
      "displayName": "‍정영진[재학 / 바이오메디컬공학전공]",
      "userId": "05820612260606642415"
     },
     "user_tz": -540
    },
    "id": "D-egwdF5SF-d"
   },
   "outputs": [],
   "source": [
    "#Blob detection algorithm\n",
    "detector_params = cv2.SimpleBlobDetector_Params()\n",
    "detector_params.filterByArea = True\n",
    "detector_params.maxArea = 1500\n",
    "detector = cv2.SimpleBlobDetector_create(detector_params)"
   ]
  },
  {
   "cell_type": "code",
   "execution_count": 6,
   "metadata": {
    "executionInfo": {
     "elapsed": 3,
     "status": "ok",
     "timestamp": 1682831827231,
     "user": {
      "displayName": "‍정영진[재학 / 바이오메디컬공학전공]",
      "userId": "05820612260606642415"
     },
     "user_tz": -540
    },
    "id": "wFubBfo0S5t8"
   },
   "outputs": [],
   "source": [
    "def detect_eyes(img, classifier):\n",
    "    gray_frame = cv2.cvtColor(img, cv2.COLOR_BGR2GRAY)\n",
    "    eyes = classifier.detectMultiScale(gray_frame, 1.3, 5) # detect eyes\n",
    "    width = np.size(img, 1) # get face frame width\n",
    "    height = np.size(img, 0) # get face frame height\n",
    "    for (x, y, w, h) in eyes:\n",
    "        if y > height / 2:\n",
    "            pass\n",
    "        eyecenter = x + w / 2  # get the eye center\n",
    "        if eyecenter < width * 0.5:\n",
    "            left_eye = img[y:y + h, x:x + w]\n",
    "        else:\n",
    "            right_eye = img[y:y + h, x:x + w]\n",
    "    return left_eye, right_eye"
   ]
  },
  {
   "cell_type": "code",
   "execution_count": 7,
   "metadata": {
    "executionInfo": {
     "elapsed": 2,
     "status": "ok",
     "timestamp": 1682831827761,
     "user": {
      "displayName": "‍정영진[재학 / 바이오메디컬공학전공]",
      "userId": "05820612260606642415"
     },
     "user_tz": -540
    },
    "id": "RqYHQuN9TDXQ"
   },
   "outputs": [],
   "source": [
    "def detect_faces(img, classifier):\n",
    "    gray_frame = cv2.cvtColor(img, cv2.COLOR_BGR2GRAY)\n",
    "    coords = classifier.detectMultiScale(gray_frame, 1.3, 5)\n",
    "    if len(coords) > 1:\n",
    "        biggest = (0, 0, 0, 0)\n",
    "        for i in coords:\n",
    "            if i[3] > biggest[3]:\n",
    "                biggest = i\n",
    "        biggest = np.array([i], np.int32)\n",
    "    elif len(coords) == 1:\n",
    "        biggest = coords\n",
    "    else:\n",
    "        return None\n",
    "    for (x, y, w, h) in biggest:\n",
    "        frame = img[y:y + h, x:x + w]\n",
    "    return frame"
   ]
  },
  {
   "cell_type": "code",
   "execution_count": 8,
   "metadata": {
    "colab": {
     "base_uri": "https://localhost:8080/",
     "height": 262
    },
    "executionInfo": {
     "elapsed": 6,
     "status": "ok",
     "timestamp": 1682831828248,
     "user": {
      "displayName": "‍정영진[재학 / 바이오메디컬공학전공]",
      "userId": "05820612260606642415"
     },
     "user_tz": -540
    },
    "id": "bW3c9UDsTM7a",
    "outputId": "f7118eaf-d785-4335-f2a6-216a85f91065"
   },
   "outputs": [
    {
     "data": {
      "image/png": "[encoded data removed]",
      "text/plain": [
       "<Figure size 640x480 with 2 Axes>"
      ]
     },
     "metadata": {},
     "output_type": "display_data"
    }
   ],
   "source": [
    "left, right = detect_eyes(img, eye_cascade)\n",
    "plt.subplot(121)\n",
    "plt.imshow(left)\n",
    "plt.axis(\"off\")\n",
    "\n",
    "plt.subplot(122)\n",
    "plt.imshow(right)\n",
    "plt.axis(\"off\")\n",
    "plt.show()"
   ]
  },
  {
   "cell_type": "code",
   "execution_count": 9,
   "metadata": {
    "colab": {
     "base_uri": "https://localhost:8080/",
     "height": 225
    },
    "executionInfo": {
     "elapsed": 763,
     "status": "ok",
     "timestamp": 1682831829488,
     "user": {
      "displayName": "‍정영진[재학 / 바이오메디컬공학전공]",
      "userId": "05820612260606642415"
     },
     "user_tz": -540
    },
    "id": "b04fZPVgSY6Y",
    "outputId": "f9001931-fcc9-43a1-aab2-e64b43053759"
   },
   "outputs": [
    {
     "data": {
      "image/png": "[encoded data removed]",
      "text/plain": [
       "<Figure size 1500x700 with 6 Axes>"
      ]
     },
     "metadata": {},
     "output_type": "display_data"
    }
   ],
   "source": [
    " plt.figure(figsize=(15,7))\n",
    " for i in range(0, 255, 50): \n",
    "   threshold=i\n",
    "   _, v1_img = cv2.threshold(left, threshold, 255, cv2.THRESH_BINARY)\n",
    "   plt.subplot(1,6,int(i/50)+1)\n",
    "   plt.title(f\"threshold : {i}\")\n",
    "   plt.imshow(v1_img)\n",
    "   plt.axis(\"off\")\n",
    "plt.show()"
   ]
  },
  {
   "cell_type": "code",
   "execution_count": 10,
   "metadata": {
    "colab": {
     "base_uri": "https://localhost:8080/",
     "height": 225
    },
    "executionInfo": {
     "elapsed": 660,
     "status": "ok",
     "timestamp": 1682831830141,
     "user": {
      "displayName": "‍정영진[재학 / 바이오메디컬공학전공]",
      "userId": "05820612260606642415"
     },
     "user_tz": -540
    },
    "id": "KBh34aKQU-xa",
    "outputId": "a42e9c0f-8d20-44bc-e40e-09033cd6249b"
   },
   "outputs": [
    {
     "data": {
      "image/png": "[encoded data removed]",
      "text/plain": [
       "<Figure size 1500x700 with 6 Axes>"
      ]
     },
     "metadata": {},
     "output_type": "display_data"
    }
   ],
   "source": [
    " plt.figure(figsize=(15,7))\n",
    " for i in range(100, 155, 10): \n",
    "   threshold=i\n",
    "   _, v1_img = cv2.threshold(left, threshold, 255, cv2.THRESH_BINARY)\n",
    "   plt.subplot(1,6,int((i-100)/10)+1)\n",
    "   plt.title(f\"threshold : {i}\")\n",
    "   plt.imshow(v1_img)\n",
    "   plt.axis(\"off\")\n",
    "plt.show()"
   ]
  },
  {
   "cell_type": "code",
   "execution_count": 11,
   "metadata": {
    "colab": {
     "base_uri": "https://localhost:8080/",
     "height": 225
    },
    "executionInfo": {
     "elapsed": 16,
     "status": "ok",
     "timestamp": 1682831830142,
     "user": {
      "displayName": "‍정영진[재학 / 바이오메디컬공학전공]",
      "userId": "05820612260606642415"
     },
     "user_tz": -540
    },
    "id": "mhHhODGoVQn7",
    "outputId": "50f26c00-8dbd-4e0c-90db-5a22a1e49151"
   },
   "outputs": [
    {
     "data": {
      "image/png": "[encoded data removed]",
      "text/plain": [
       "<Figure size 1500x700 with 5 Axes>"
      ]
     },
     "metadata": {},
     "output_type": "display_data"
    }
   ],
   "source": [
    " plt.figure(figsize=(15,7))\n",
    " for i in range(120, 145, 5): \n",
    "   threshold=i\n",
    "   _, v1_img = cv2.threshold(left, threshold, 255, cv2.THRESH_BINARY)\n",
    "   plt.subplot(1,6,int((i-120)/5)+1)\n",
    "   plt.title(f\"threshold : {i}\")\n",
    "   plt.imshow(v1_img)\n",
    "   plt.axis(\"off\")\n",
    "plt.show()"
   ]
  },
  {
   "cell_type": "code",
   "execution_count": 12,
   "metadata": {
    "executionInfo": {
     "elapsed": 7,
     "status": "ok",
     "timestamp": 1682831830784,
     "user": {
      "displayName": "‍정영진[재학 / 바이오메디컬공학전공]",
      "userId": "05820612260606642415"
     },
     "user_tz": -540
    },
    "id": "WvXLiq58Sare"
   },
   "outputs": [],
   "source": [
    "def blob_process(img, detector, threshold):\n",
    "    gray_frame = cv2.cvtColor(img, cv2.COLOR_BGR2GRAY)\n",
    "    _, img = cv2.threshold(gray_frame, threshold, 255, cv2.THRESH_BINARY)\n",
    "    img = cv2.erode(img, None, iterations=2) #1\n",
    "    img = cv2.dilate(img, None, iterations=4) #2\n",
    "    img = cv2.medianBlur(img, 5) #3\n",
    "    keypoints = detector.detect(img)\n",
    "    return keypoints"
   ]
  },
  {
   "cell_type": "code",
   "execution_count": 13,
   "metadata": {
    "colab": {
     "base_uri": "https://localhost:8080/",
     "height": 406
    },
    "executionInfo": {
     "elapsed": 7,
     "status": "ok",
     "timestamp": 1682831830784,
     "user": {
      "displayName": "‍정영진[재학 / 바이오메디컬공학전공]",
      "userId": "05820612260606642415"
     },
     "user_tz": -540
    },
    "id": "q25y3pKhSen7",
    "outputId": "eda01a3e-4e64-4adb-9dfd-f3a1fb715d4f"
   },
   "outputs": [
    {
     "data": {
      "image/png": "[encoded data removed]",
      "text/plain": [
       "<Figure size 640x480 with 1 Axes>"
      ]
     },
     "metadata": {},
     "output_type": "display_data"
    }
   ],
   "source": [
    "keypoints = blob_process(v1_img, detector, threshold=125)\n",
    "v2_img = cv2.drawKeypoints(v1_img, keypoints, v1_img, (0, 0, 255), cv2.DRAW_MATCHES_FLAGS_DRAW_RICH_KEYPOINTS)\n",
    "plt.imshow(v2_img)\n",
    "plt.axis(\"off\")\n",
    "plt.show()"
   ]
  },
  {
   "cell_type": "code",
   "execution_count": 2,
   "metadata": {
    "executionInfo": {
     "elapsed": 4,
     "status": "ok",
     "timestamp": 1682831831666,
     "user": {
      "displayName": "‍정영진[재학 / 바이오메디컬공학전공]",
      "userId": "05820612260606642415"
     },
     "user_tz": -540
    },
    "id": "2duTZgT9SvMS"
   },
   "outputs": [],
   "source": [
    "def main():\n",
    "    cap = cv2.VideoCapture(0)\n",
    "    cv2.namedWindow('image')\n",
    "    cv2.createTrackbar('threshold', 'image', 0, 255, nothing)\n",
    "    while True:\n",
    "        _, frame = cap.read()\n",
    "        face_frame = detect_faces(frame, face_cascade)\n",
    "        if face_frame is not None:\n",
    "            eyes = detect_eyes(face_frame, eye_cascade)\n",
    "            for eye in eyes:\n",
    "                if eye is not None:\n",
    "                    threshold = cv2.getTrackbarPos('threshold', 'image')\n",
    "                    eye = cut_eyebrows(eye)\n",
    "                    keypoints = blob_process(eye, threshold, detector)\n",
    "                    eye = cv2.drawKeypoints(eye, keypoints, eye, (0, 0, 255), cv2.DRAW_MATCHES_FLAGS_DRAW_RICH_KEYPOINTS)\n",
    "        cv2.imshow('image', frame)\n",
    "        if cv2.waitKey(1) & 0xFF == ord('q'):\n",
    "            break\n",
    "    cap.release()\n",
    "    cv2.destroyAllWindows()\n",
    "def blob_process(img, threshold, detector):\n",
    "    gray_frame = cv2.cvtColor(img, cv2.COLOR_BGR2GRAY)\n",
    "    _, img = cv2.threshold(gray_frame, threshold, 255, cv2.THRESH_BINARY)\n",
    "    img = cv2.erode(img, None, iterations=2)\n",
    "    img = cv2.dilate(img, None, iterations=4)\n",
    "    img = cv2.medianBlur(img, 5)\n",
    "    keypoints = detector.detect(img)\n",
    "    print(keypoints)\n",
    "    return keypoints\n",
    "def nothing(x):\n",
    "    pass"
   ]
  },
  {
   "cell_type": "code",
   "execution_count": 15,
   "metadata": {
    "executionInfo": {
     "elapsed": 3,
     "status": "ok",
     "timestamp": 1682831832264,
     "user": {
      "displayName": "‍정영진[재학 / 바이오메디컬공학전공]",
      "userId": "05820612260606642415"
     },
     "user_tz": -540
    },
    "id": "o1TBEPEIl2Tw"
   },
   "outputs": [],
   "source": []
  },
  {
   "cell_type": "code",
   "execution_count": null,
   "metadata": {
    "id": "-Dm_N9Rul_A2"
   },
   "outputs": [],
   "source": []
  }
 ],
 "metadata": {
  "colab": {
   "provenance": []
  },
  "kernelspec": {
   "display_name": "Python 3 (ipykernel)",
   "language": "python",
   "name": "python3"
  },
  "language_info": {
   "codemirror_mode": {
    "name": "ipython",
    "version": 3
   },
   "file_extension": ".py",
   "mimetype": "text/x-python",
   "name": "python",
   "nbconvert_exporter": "python",
   "pygments_lexer": "ipython3",
   "version": "3.8.16"
  }
 },
 "nbformat": 4,
 "nbformat_minor": 1
}
